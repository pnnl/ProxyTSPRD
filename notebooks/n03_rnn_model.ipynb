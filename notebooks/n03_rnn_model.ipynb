{
 "cells": [
  {
   "cell_type": "code",
   "execution_count": null,
   "id": "5b7c1a79",
   "metadata": {},
   "outputs": [
    {
     "ename": "",
     "evalue": "",
     "output_type": "error",
     "traceback": [
      "\u001b[1;31mRunning cells with 'Python 3.6.8 64-bit' requires ipykernel package.\n",
      "\u001b[1;31mRun the following command to install 'ipykernel' into the Python environment. \n",
      "\u001b[1;31mCommand: '/usr/bin/python3 -m pip install ipykernel -U --user --force-reinstall'"
     ]
    }
   ],
   "source": [
    "# ------------------------------- IMPORT MODULES & SETUP ------------------------------------------------\n",
    "# Standard Libraries\n",
    "import os\n",
    "# os.environ['OMP_NUM_THREADS'] = '48'\n",
    "import math\n",
    "import json\n",
    "import datetime\n",
    "import numpy as np\n",
    "import time\n",
    "# import nvtx\n",
    "\n",
    "import argparse\n",
    "\n",
    "# ------------------------------- CUSTOM FUNCTIONS ------------------------------------------------\n",
    "# Custom Library\n",
    "import sys\n",
    "sys.path.append('../')\n",
    "\n",
    "from proxy_apps import ProxyTSPRD\n",
    "# from proxy_apps.apps.timeseries_prediction import deepDMD, proxyDeepDMD, proxyDeepDMDMGPU, proxyDeepDMDPyTorch, proxyDeepDMDPyTorchJIT, hyperparameters\n",
    "\n",
    "# from proxy_apps.utils.tf import TimingCallback\n",
    "# from proxy_apps.utils.data.main import NpEncoder\n",
    "# from proxy_apps.utils import file_reader, path_handler\n",
    "# from proxy_apps.utils.data.grid import GridNetworkDataHandler, GridNetworkTFDataHandler, GridNetworkNewGen, GridDataGenPyTorch"
   ]
  },
  {
   "cell_type": "code",
   "execution_count": 1,
   "id": "71b9ae77-3907-449c-bab4-4c4c035d1b97",
   "metadata": {},
   "outputs": [],
   "source": [
    "import torch"
   ]
  },
  {
   "cell_type": "code",
   "execution_count": 3,
   "id": "d8733365-3913-44c2-ad02-fb0633423945",
   "metadata": {},
   "outputs": [
    {
     "data": {
      "text/plain": [
       "tensor(1.6372e+09)"
      ]
     },
     "execution_count": 3,
     "metadata": {},
     "output_type": "execute_result"
    }
   ],
   "source": [
    "import time\n",
    "start_time = time.time()\n",
    "torch.tensor(start_time)"
   ]
  },
  {
   "cell_type": "code",
   "execution_count": 2,
   "id": "9d6a1efa-d070-47fb-bfd2-6b5edba6ac8f",
   "metadata": {},
   "outputs": [],
   "source": [
    "import numpy as np\n",
    "test_data = np.random.rand(32, 60, 136)"
   ]
  },
  {
   "cell_type": "code",
   "execution_count": 3,
   "id": "fc72855a",
   "metadata": {},
   "outputs": [
    {
     "name": "stdout",
     "output_type": "stream",
     "text": [
      "TensorFlow Version:  2.4.1\n"
     ]
    }
   ],
   "source": [
    "import tensorflow as tf\n",
    "print(\"TensorFlow Version: \", tf.__version__)\n",
    "class TFLSTM(tf.keras.Model):\n",
    "    def __init__(self, bw_size, fw_size, n_features):\n",
    "        super(TFLSTM, self).__init__(name = 'TFLSTM')\n",
    "        self.lstm1_layer   = tf.keras.layers.LSTM(512, input_shape=(bw_size, n_features), return_sequences=True)\n",
    "        self.lstm2_layer   = tf.keras.layers.LSTM(256, return_sequences=True)\n",
    "        self.lstm3_layer   = tf.keras.layers.LSTM(128, return_sequences=True)\n",
    "        self.lstm4_layer   = tf.keras.layers.LSTM(64)\n",
    "        self.dense_layer   = tf.keras.layers.Dense(fw_size * n_features)\n",
    "        self.output_layer  = tf.keras.layers.Reshape((fw_size, n_features))\n",
    "        \n",
    "    def call(self, input_data):\n",
    "        print(input_data.shape)\n",
    "        fx = self.lstm1_layer(input_data)        \n",
    "        print(fx.shape)\n",
    "        fx = self.lstm2_layer(fx)        \n",
    "        print(fx.shape)\n",
    "        fx = self.lstm3_layer(fx)        \n",
    "        print(fx.shape)\n",
    "        fx = self.lstm4_layer(fx)        \n",
    "        print(fx.shape)\n",
    "        fx = self.dense_layer(fx)        \n",
    "        print(fx.shape)\n",
    "        return self.output_layer(fx)"
   ]
  },
  {
   "cell_type": "code",
   "execution_count": 4,
   "id": "76cf1707",
   "metadata": {},
   "outputs": [
    {
     "name": "stdout",
     "output_type": "stream",
     "text": [
      "(None, 60, 136)\n"
     ]
    },
    {
     "name": "stderr",
     "output_type": "stream",
     "text": [
      "2021-11-05 19:17:40.353570: I tensorflow/compiler/jit/xla_cpu_device.cc:41] Not creating XLA devices, tf_xla_enable_xla_devices not set\n",
      "2021-11-05 19:17:40.353776: W tensorflow/stream_executor/platform/default/dso_loader.cc:60] Could not load dynamic library 'libcuda.so.1'; dlerror: libcuda.so.1: cannot open shared object file: No such file or directory; LD_LIBRARY_PATH: /usr/lib64/:/share/apps/python/miniconda3.9/lib\n",
      "2021-11-05 19:17:40.353788: W tensorflow/stream_executor/cuda/cuda_driver.cc:326] failed call to cuInit: UNKNOWN ERROR (303)\n",
      "2021-11-05 19:17:40.353812: I tensorflow/stream_executor/cuda/cuda_diagnostics.cc:156] kernel driver does not appear to be running on this host (deception02.pnl.gov): /proc/driver/nvidia/version does not exist\n",
      "2021-11-05 19:17:40.354060: I tensorflow/core/platform/cpu_feature_guard.cc:142] This TensorFlow binary is optimized with oneAPI Deep Neural Network Library (oneDNN) to use the following CPU instructions in performance-critical operations:  AVX2 FMA\n",
      "To enable them in other operations, rebuild TensorFlow with the appropriate compiler flags.\n",
      "2021-11-05 19:17:40.355707: I tensorflow/compiler/jit/xla_gpu_device.cc:99] Not creating XLA devices, tf_xla_enable_xla_devices not set\n"
     ]
    },
    {
     "name": "stdout",
     "output_type": "stream",
     "text": [
      "(None, 60, 512)\n",
      "(None, 60, 256)\n",
      "(None, 60, 128)\n",
      "(None, 64)\n",
      "(None, 4080)\n",
      "Model: \"TFLSTM\"\n",
      "_________________________________________________________________\n",
      "Layer (type)                 Output Shape              Param #   \n",
      "=================================================================\n",
      "lstm (LSTM)                  multiple                  1329152   \n",
      "_________________________________________________________________\n",
      "lstm_1 (LSTM)                multiple                  787456    \n",
      "_________________________________________________________________\n",
      "lstm_2 (LSTM)                multiple                  197120    \n",
      "_________________________________________________________________\n",
      "lstm_3 (LSTM)                multiple                  49408     \n",
      "_________________________________________________________________\n",
      "dense (Dense)                multiple                  265200    \n",
      "_________________________________________________________________\n",
      "reshape (Reshape)            multiple                  0         \n",
      "=================================================================\n",
      "Total params: 2,628,336\n",
      "Trainable params: 2,628,336\n",
      "Non-trainable params: 0\n",
      "_________________________________________________________________\n"
     ]
    }
   ],
   "source": [
    "tf_model=TFLSTM(60, 30, 136)\n",
    "tf_model.build(input_shape=(None, 60, 136))\n",
    "tf_model.summary()"
   ]
  },
  {
   "cell_type": "code",
   "execution_count": 5,
   "id": "8e965289-ff11-4294-954a-e0cc3d8a81a9",
   "metadata": {},
   "outputs": [
    {
     "name": "stdout",
     "output_type": "stream",
     "text": [
      "(32, 60, 136)\n",
      "(32, 60, 512)\n",
      "(32, 60, 256)\n",
      "(32, 60, 128)\n",
      "(32, 64)\n",
      "(32, 4080)\n"
     ]
    }
   ],
   "source": [
    "tf_out = tf_model(test_data)"
   ]
  },
  {
   "cell_type": "code",
   "execution_count": 30,
   "id": "edc30a00",
   "metadata": {},
   "outputs": [],
   "source": [
    "import torch\n",
    "from torch.autograd import Variable\n",
    "class PTLSTM(torch.nn.Module):\n",
    "    def __init__(self, bw_size, fw_size, n_features):\n",
    "        super(PTLSTM, self).__init__()\n",
    "        self.bw_size = bw_size # size of the backward window\n",
    "        self.fw_size = fw_size # size of the backward window\n",
    "        self.n_features = n_features # size of the backward window\n",
    "        \n",
    "        self.hidden_size1 = 512\n",
    "        self.lstm1_layer   = torch.nn.LSTM(hidden_size=self.hidden_size1, input_size=self.n_features, batch_first=True)\n",
    "        self.hidden_size2 = 256\n",
    "        self.lstm2_layer   = torch.nn.LSTM(hidden_size=self.hidden_size2, input_size=self.hidden_size1, batch_first=True)\n",
    "        self.hidden_size3 = 128\n",
    "        self.lstm3_layer   = torch.nn.LSTM(hidden_size=self.hidden_size3, input_size=self.hidden_size2, batch_first=True)\n",
    "        self.hidden_size4 = 64\n",
    "        self.lstm4_layer   = torch.nn.LSTM(hidden_size=self.hidden_size4, input_size=self.hidden_size3, batch_first=True)\n",
    "        self.dense_layer   = torch.nn.Linear(in_features=self.hidden_size4, out_features=fw_size * n_features)\n",
    "        # self.output_layer  = tf.keras.layers.Reshape((fw_size, n_features))\n",
    "    \n",
    "    def forward(self,x):\n",
    "        print(x.shape)\n",
    "        h_1 = Variable(torch.zeros(1, x.size(0), self.hidden_size1)) #hidden state\n",
    "        c_1 = Variable(torch.zeros(1, x.size(0), self.hidden_size1)) #internal state\n",
    "        h_1, c_1 = self.lstm1_layer(x, (h_1, c_1))\n",
    "        #print(h_1.shape)\n",
    "        \n",
    "        h_2 = Variable(torch.zeros(1, x.size(0), self.hidden_size2)) #hidden state\n",
    "        c_2 = Variable(torch.zeros(1, x.size(0), self.hidden_size2)) #internal state\n",
    "        h_2, c_2 = self.lstm2_layer(h_1, (h_2, c_2)) #first Dense\n",
    "        #print(h_2.shape)\n",
    "        \n",
    "        h_3 = Variable(torch.zeros(1, x.size(0), self.hidden_size3)) #hidden state\n",
    "        c_3 = Variable(torch.zeros(1, x.size(0), self.hidden_size3)) #internal state\n",
    "        h_3, c_3 = self.lstm3_layer(h_2, (h_3, c_3)) #relu\n",
    "        #print(h_3.shape)\n",
    "        \n",
    "        h_4 = Variable(torch.zeros(1, x.size(0), self.hidden_size4)) #hidden state\n",
    "        c_4 = Variable(torch.zeros(1, x.size(0), self.hidden_size4)) #internal state\n",
    "        h_4, c_4 = self.lstm4_layer(h_3, (h_4, c_4)) #Final Output\n",
    "        #print(h_4[:, -1, :].shape)\n",
    "        \n",
    "        out = self.dense_layer(h_4[:, -1, :])\n",
    "        #print(out.shape)\n",
    "        \n",
    "        return out.view((out.shape[0], self.fw_size, self.n_features))"
   ]
  },
  {
   "cell_type": "code",
   "execution_count": 31,
   "id": "fd0dd93f-f6ac-4572-9baa-f20871f0058d",
   "metadata": {},
   "outputs": [
    {
     "data": {
      "text/plain": [
       "PTLSTM(\n",
       "  (lstm1_layer): LSTM(136, 512, batch_first=True)\n",
       "  (lstm2_layer): LSTM(512, 256, batch_first=True)\n",
       "  (lstm3_layer): LSTM(256, 128, batch_first=True)\n",
       "  (lstm4_layer): LSTM(128, 64, batch_first=True)\n",
       "  (dense_layer): Linear(in_features=64, out_features=4080, bias=True)\n",
       ")"
      ]
     },
     "execution_count": 31,
     "metadata": {},
     "output_type": "execute_result"
    }
   ],
   "source": [
    "pt_model = PTLSTM(60, 30, 136)\n",
    "pt_model"
   ]
  },
  {
   "cell_type": "code",
   "execution_count": 29,
   "id": "6fdb8b36-943b-454d-9f8e-f01ec0f1eb2a",
   "metadata": {},
   "outputs": [
    {
     "name": "stdout",
     "output_type": "stream",
     "text": [
      "torch.Size([32, 60, 136])\n"
     ]
    },
    {
     "ename": "NameError",
     "evalue": "name 'h1' is not defined",
     "output_type": "error",
     "traceback": [
      "\u001b[0;31m---------------------------------------------------------------------------\u001b[0m",
      "\u001b[0;31mNameError\u001b[0m                                 Traceback (most recent call last)",
      "\u001b[0;32m/tmp/ipykernel_26264/2714912122.py\u001b[0m in \u001b[0;36m<module>\u001b[0;34m\u001b[0m\n\u001b[0;32m----> 1\u001b[0;31m \u001b[0mpt_out\u001b[0m \u001b[0;34m=\u001b[0m \u001b[0mpt_model\u001b[0m\u001b[0;34m(\u001b[0m\u001b[0mtorch\u001b[0m\u001b[0;34m.\u001b[0m\u001b[0mTensor\u001b[0m\u001b[0;34m(\u001b[0m\u001b[0mtest_data\u001b[0m\u001b[0;34m)\u001b[0m\u001b[0;34m)\u001b[0m\u001b[0;34m\u001b[0m\u001b[0;34m\u001b[0m\u001b[0m\n\u001b[0m",
      "\u001b[0;32m~/.conda/envs/horovod/lib/python3.8/site-packages/torch/nn/modules/module.py\u001b[0m in \u001b[0;36m_call_impl\u001b[0;34m(self, *input, **kwargs)\u001b[0m\n\u001b[1;32m   1049\u001b[0m         if not (self._backward_hooks or self._forward_hooks or self._forward_pre_hooks or _global_backward_hooks\n\u001b[1;32m   1050\u001b[0m                 or _global_forward_hooks or _global_forward_pre_hooks):\n\u001b[0;32m-> 1051\u001b[0;31m             \u001b[0;32mreturn\u001b[0m \u001b[0mforward_call\u001b[0m\u001b[0;34m(\u001b[0m\u001b[0;34m*\u001b[0m\u001b[0minput\u001b[0m\u001b[0;34m,\u001b[0m \u001b[0;34m**\u001b[0m\u001b[0mkwargs\u001b[0m\u001b[0;34m)\u001b[0m\u001b[0;34m\u001b[0m\u001b[0;34m\u001b[0m\u001b[0m\n\u001b[0m\u001b[1;32m   1052\u001b[0m         \u001b[0;31m# Do not call functions when jit is used\u001b[0m\u001b[0;34m\u001b[0m\u001b[0;34m\u001b[0m\u001b[0;34m\u001b[0m\u001b[0m\n\u001b[1;32m   1053\u001b[0m         \u001b[0mfull_backward_hooks\u001b[0m\u001b[0;34m,\u001b[0m \u001b[0mnon_full_backward_hooks\u001b[0m \u001b[0;34m=\u001b[0m \u001b[0;34m[\u001b[0m\u001b[0;34m]\u001b[0m\u001b[0;34m,\u001b[0m \u001b[0;34m[\u001b[0m\u001b[0;34m]\u001b[0m\u001b[0;34m\u001b[0m\u001b[0;34m\u001b[0m\u001b[0m\n",
      "\u001b[0;32m/tmp/ipykernel_26264/3976470607.py\u001b[0m in \u001b[0;36mforward\u001b[0;34m(self, x)\u001b[0m\n\u001b[1;32m     23\u001b[0m         \u001b[0mh_1\u001b[0m \u001b[0;34m=\u001b[0m \u001b[0mVariable\u001b[0m\u001b[0;34m(\u001b[0m\u001b[0mtorch\u001b[0m\u001b[0;34m.\u001b[0m\u001b[0mzeros\u001b[0m\u001b[0;34m(\u001b[0m\u001b[0;36m1\u001b[0m\u001b[0;34m,\u001b[0m \u001b[0mx\u001b[0m\u001b[0;34m.\u001b[0m\u001b[0msize\u001b[0m\u001b[0;34m(\u001b[0m\u001b[0;36m0\u001b[0m\u001b[0;34m)\u001b[0m\u001b[0;34m,\u001b[0m \u001b[0mself\u001b[0m\u001b[0;34m.\u001b[0m\u001b[0mhidden_size1\u001b[0m\u001b[0;34m)\u001b[0m\u001b[0;34m)\u001b[0m \u001b[0;31m#hidden state\u001b[0m\u001b[0;34m\u001b[0m\u001b[0;34m\u001b[0m\u001b[0m\n\u001b[1;32m     24\u001b[0m         \u001b[0mc_1\u001b[0m \u001b[0;34m=\u001b[0m \u001b[0mVariable\u001b[0m\u001b[0;34m(\u001b[0m\u001b[0mtorch\u001b[0m\u001b[0;34m.\u001b[0m\u001b[0mzeros\u001b[0m\u001b[0;34m(\u001b[0m\u001b[0;36m1\u001b[0m\u001b[0;34m,\u001b[0m \u001b[0mx\u001b[0m\u001b[0;34m.\u001b[0m\u001b[0msize\u001b[0m\u001b[0;34m(\u001b[0m\u001b[0;36m0\u001b[0m\u001b[0;34m)\u001b[0m\u001b[0;34m,\u001b[0m \u001b[0mself\u001b[0m\u001b[0;34m.\u001b[0m\u001b[0mhidden_size1\u001b[0m\u001b[0;34m)\u001b[0m\u001b[0;34m)\u001b[0m \u001b[0;31m#internal state\u001b[0m\u001b[0;34m\u001b[0m\u001b[0;34m\u001b[0m\u001b[0m\n\u001b[0;32m---> 25\u001b[0;31m         \u001b[0mprint\u001b[0m\u001b[0;34m(\u001b[0m\u001b[0mh1\u001b[0m\u001b[0;34m)\u001b[0m\u001b[0;34m\u001b[0m\u001b[0;34m\u001b[0m\u001b[0m\n\u001b[0m\u001b[1;32m     26\u001b[0m         \u001b[0mh_1\u001b[0m\u001b[0;34m,\u001b[0m \u001b[0mc_1\u001b[0m \u001b[0;34m=\u001b[0m \u001b[0mself\u001b[0m\u001b[0;34m.\u001b[0m\u001b[0mlstm1_layer\u001b[0m\u001b[0;34m(\u001b[0m\u001b[0mx\u001b[0m\u001b[0;34m,\u001b[0m \u001b[0;34m(\u001b[0m\u001b[0mh_1\u001b[0m\u001b[0;34m,\u001b[0m \u001b[0mc_1\u001b[0m\u001b[0;34m)\u001b[0m\u001b[0;34m)\u001b[0m\u001b[0;34m\u001b[0m\u001b[0;34m\u001b[0m\u001b[0m\n\u001b[1;32m     27\u001b[0m         \u001b[0mprint\u001b[0m\u001b[0;34m(\u001b[0m\u001b[0mh_1\u001b[0m\u001b[0;34m.\u001b[0m\u001b[0mshape\u001b[0m\u001b[0;34m)\u001b[0m\u001b[0;34m\u001b[0m\u001b[0;34m\u001b[0m\u001b[0m\n",
      "\u001b[0;31mNameError\u001b[0m: name 'h1' is not defined"
     ]
    }
   ],
   "source": [
    "pt_out = pt_model(torch.Tensor(test_data))"
   ]
  },
  {
   "cell_type": "code",
   "execution_count": 26,
   "id": "da9c3d3a-1c47-4627-8ca4-1fb996ca3bb0",
   "metadata": {},
   "outputs": [
    {
     "data": {
      "text/plain": [
       "array([ 0.00070119, -0.05698129, -0.00950519,  0.07187919,  0.08011659,\n",
       "       -0.1108347 , -0.02103576,  0.03646854, -0.00913914,  0.03987632,\n",
       "       -0.09225996,  0.04328468, -0.02160279, -0.06178767,  0.14740677,\n",
       "        0.06635267,  0.07306971,  0.01730229, -0.07763304, -0.0875956 ,\n",
       "       -0.10194558,  0.02492072,  0.08379532,  0.03210932,  0.0082323 ,\n",
       "        0.00502864, -0.04964275,  0.02318013,  0.12815316,  0.0258281 ,\n",
       "       -0.00368786,  0.12309135,  0.06032683, -0.08208665,  0.05897676,\n",
       "       -0.02617712,  0.01351137, -0.08481851, -0.13048518,  0.01454673,\n",
       "       -0.05493959, -0.0502141 , -0.03074871, -0.02350655,  0.00768772,\n",
       "        0.10149132, -0.08347325,  0.00068326,  0.1552209 ,  0.12592465,\n",
       "        0.00596165, -0.01254958, -0.0046465 , -0.00265353,  0.07255635,\n",
       "        0.039815  , -0.12123776, -0.07699578,  0.01123032, -0.13657816,\n",
       "       -0.05917638,  0.08512174,  0.01199227,  0.06013994,  0.15003107,\n",
       "        0.10146493,  0.03452443, -0.11632743, -0.06067556, -0.04324911,\n",
       "        0.02082848, -0.10126416, -0.11046843,  0.02642037, -0.01872808,\n",
       "       -0.12206183,  0.03429404,  0.10017461, -0.09818673,  0.08195867,\n",
       "       -0.00071851,  0.02284861,  0.01675129,  0.00141971, -0.12612794,\n",
       "       -0.08942685,  0.02931137, -0.13025098,  0.03290879,  0.08790874,\n",
       "       -0.08945744,  0.0683703 ,  0.06755754, -0.07113246, -0.07470085,\n",
       "        0.01873804,  0.12928951,  0.06948268, -0.0383928 , -0.10027587,\n",
       "       -0.14720017,  0.02280621,  0.05495794,  0.05677624, -0.05423887,\n",
       "       -0.13814294,  0.03664782,  0.10896771, -0.02818252,  0.01967502,\n",
       "        0.02731108, -0.04268961,  0.04011383, -0.1242402 ,  0.04998321,\n",
       "        0.06705383,  0.10173628,  0.03917717,  0.10044505,  0.11788905,\n",
       "        0.05075376, -0.03299583,  0.07459207, -0.03568912,  0.11975238,\n",
       "       -0.03777993, -0.07255527, -0.00297134,  0.1078494 , -0.00465295,\n",
       "        0.16294345, -0.10995818,  0.02388886, -0.04040621, -0.00551059,\n",
       "        0.05081308], dtype=float32)"
      ]
     },
     "execution_count": 26,
     "metadata": {},
     "output_type": "execute_result"
    }
   ],
   "source": [
    "tf_out.numpy()[0][0, :] - pt_out.detach().numpy()[0][0, :]"
   ]
  },
  {
   "cell_type": "code",
   "execution_count": 14,
   "id": "9d84fc28-1d0c-435f-afea-88becf4671f3",
   "metadata": {},
   "outputs": [
    {
     "data": {
      "text/plain": [
       "tensor([[[ 0.0045,  0.0393,  0.0057,  ...,  0.0129, -0.0080, -0.0459],\n",
       "         [-0.0321,  0.0591,  0.0067,  ..., -0.0347, -0.0763,  0.0437],\n",
       "         [ 0.1468,  0.0329, -0.1611,  ...,  0.0254, -0.1120, -0.1399],\n",
       "         ...,\n",
       "         [ 0.0253, -0.0378,  0.0088,  ..., -0.0833,  0.0256,  0.0148],\n",
       "         [-0.0577, -0.0450,  0.0125,  ..., -0.0560,  0.0115,  0.1055],\n",
       "         [ 0.0697, -0.0556,  0.0870,  ...,  0.0130,  0.1178,  0.1172]],\n",
       "\n",
       "        [[ 0.0043,  0.0391,  0.0049,  ...,  0.0128, -0.0080, -0.0460],\n",
       "         [-0.0342,  0.0582,  0.0071,  ..., -0.0358, -0.0775,  0.0437],\n",
       "         [ 0.1477,  0.0326, -0.1608,  ...,  0.0256, -0.1115, -0.1402],\n",
       "         ...,\n",
       "         [ 0.0244, -0.0379,  0.0084,  ..., -0.0834,  0.0261,  0.0160],\n",
       "         [-0.0585, -0.0443,  0.0122,  ..., -0.0568,  0.0112,  0.1056],\n",
       "         [ 0.0699, -0.0552,  0.0878,  ...,  0.0124,  0.1183,  0.1167]],\n",
       "\n",
       "        [[ 0.0042,  0.0403,  0.0056,  ...,  0.0127, -0.0080, -0.0459],\n",
       "         [-0.0320,  0.0594,  0.0060,  ..., -0.0344, -0.0771,  0.0443],\n",
       "         [ 0.1469,  0.0335, -0.1613,  ...,  0.0249, -0.1113, -0.1402],\n",
       "         ...,\n",
       "         [ 0.0254, -0.0368,  0.0096,  ..., -0.0842,  0.0241,  0.0157],\n",
       "         [-0.0581, -0.0457,  0.0104,  ..., -0.0564,  0.0114,  0.1049],\n",
       "         [ 0.0690, -0.0573,  0.0874,  ...,  0.0124,  0.1172,  0.1160]],\n",
       "\n",
       "        ...,\n",
       "\n",
       "        [[ 0.0042,  0.0405,  0.0070,  ...,  0.0131, -0.0090, -0.0460],\n",
       "         [-0.0321,  0.0587,  0.0066,  ..., -0.0342, -0.0768,  0.0442],\n",
       "         [ 0.1464,  0.0330, -0.1612,  ...,  0.0246, -0.1112, -0.1402],\n",
       "         ...,\n",
       "         [ 0.0259, -0.0376,  0.0094,  ..., -0.0844,  0.0248,  0.0153],\n",
       "         [-0.0575, -0.0454,  0.0117,  ..., -0.0570,  0.0119,  0.1066],\n",
       "         [ 0.0691, -0.0563,  0.0869,  ...,  0.0129,  0.1179,  0.1175]],\n",
       "\n",
       "        [[ 0.0039,  0.0396,  0.0054,  ...,  0.0134, -0.0075, -0.0469],\n",
       "         [-0.0318,  0.0582,  0.0061,  ..., -0.0348, -0.0760,  0.0435],\n",
       "         [ 0.1476,  0.0322, -0.1604,  ...,  0.0255, -0.1124, -0.1403],\n",
       "         ...,\n",
       "         [ 0.0264, -0.0371,  0.0090,  ..., -0.0858,  0.0246,  0.0162],\n",
       "         [-0.0582, -0.0455,  0.0116,  ..., -0.0566,  0.0107,  0.1057],\n",
       "         [ 0.0696, -0.0561,  0.0870,  ...,  0.0133,  0.1174,  0.1163]],\n",
       "\n",
       "        [[ 0.0053,  0.0383,  0.0063,  ...,  0.0129, -0.0078, -0.0466],\n",
       "         [-0.0318,  0.0590,  0.0071,  ..., -0.0354, -0.0761,  0.0443],\n",
       "         [ 0.1458,  0.0321, -0.1613,  ...,  0.0256, -0.1117, -0.1411],\n",
       "         ...,\n",
       "         [ 0.0260, -0.0379,  0.0091,  ..., -0.0843,  0.0246,  0.0156],\n",
       "         [-0.0580, -0.0450,  0.0121,  ..., -0.0554,  0.0108,  0.1053],\n",
       "         [ 0.0695, -0.0558,  0.0876,  ...,  0.0127,  0.1185,  0.1165]]],\n",
       "       grad_fn=<ViewBackward>)"
      ]
     },
     "execution_count": 14,
     "metadata": {},
     "output_type": "execute_result"
    }
   ],
   "source": [
    "pt_out"
   ]
  },
  {
   "cell_type": "code",
   "execution_count": null,
   "id": "550c9896",
   "metadata": {},
   "outputs": [],
   "source": [
    "## Initialize ProxyTSPRD\n",
    "# model info\n",
    "_MODEL_NAME = \"TFDataOptMGPU\"\n",
    "_N_EPOCHS = 2\n",
    "_BATCH_SIZE = 32\n",
    "_MIXED_PRECISION = False\n",
    "\n",
    "# machine info\n",
    "_MACHINE_NAME = 'A100'\n",
    "_N_GPUS = 1\n",
    "_N_CPUS = 16\n",
    "\n",
    "# paths\n",
    "_CURR_DIR = os.path.dirname('./')\n",
    "_DATA_DIR = _CURR_DIR\n",
    "_MODEL_DIR = _CURR_DIR\n",
    "\n",
    "_FRAMEWORK = 'TF'\n",
    "\n",
    "interface = ProxyTSPRD('config.json', _MODEL_NAME, _N_EPOCHS, _BATCH_SIZE, _MIXED_PRECISION, \n",
    "                 _MACHINE_NAME, _N_GPUS, _N_CPUS,\n",
    "                 _DATA_DIR, _MODEL_DIR, _FRAMEWORK)"
   ]
  },
  {
   "cell_type": "code",
   "execution_count": null,
   "id": "1252379c",
   "metadata": {},
   "outputs": [],
   "source": [
    "interface.load_data(_CURR_DIR)"
   ]
  },
  {
   "cell_type": "code",
   "execution_count": null,
   "id": "82b4da80",
   "metadata": {},
   "outputs": [],
   "source": [
    "interface.train_model()"
   ]
  },
  {
   "cell_type": "code",
   "execution_count": null,
   "id": "605a329e",
   "metadata": {},
   "outputs": [],
   "source": []
  }
 ],
 "metadata": {
  "kernelspec": {
   "display_name": "Python 3.6.8 64-bit",
   "language": "python",
   "name": "python3"
  },
  "language_info": {
   "codemirror_mode": {
    "name": "ipython",
    "version": 3
   },
   "file_extension": ".py",
   "mimetype": "text/x-python",
   "name": "python",
   "nbconvert_exporter": "python",
   "pygments_lexer": "ipython3",
   "version": "3.6.8 (default, Nov 16 2020, 16:55:22) \n[GCC 4.8.5 20150623 (Red Hat 4.8.5-44)]"
  },
  "vscode": {
   "interpreter": {
    "hash": "31f2aee4e71d21fbe5cf8b01ff0e069b9275f58929596ceb00d14d90e3e16cd6"
   }
  }
 },
 "nbformat": 4,
 "nbformat_minor": 5
}
