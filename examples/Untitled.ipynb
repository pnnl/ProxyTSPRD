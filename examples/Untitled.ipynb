{
 "cells": [
  {
   "cell_type": "code",
   "execution_count": 1,
   "id": "0bc2bb21-4920-4573-8e08-ac5e357972f6",
   "metadata": {},
   "outputs": [],
   "source": [
    "import nvtx"
   ]
  },
  {
   "cell_type": "code",
   "execution_count": null,
   "id": "009aaa44-2d51-46ea-8346-c7ddac91353c",
   "metadata": {},
   "outputs": [],
   "source": [
    "nvtx.end_range()"
   ]
  },
  {
   "cell_type": "code",
   "execution_count": null,
   "id": "c537355e-0cf9-4f47-97e6-896fcc9894d0",
   "metadata": {},
   "outputs": [],
   "source": [
    "nvtx."
   ]
  }
 ],
 "metadata": {
  "kernelspec": {
   "display_name": "Python 3",
   "language": "python",
   "name": "python3"
  },
  "language_info": {
   "codemirror_mode": {
    "name": "ipython",
    "version": 3
   },
   "file_extension": ".py",
   "mimetype": "text/x-python",
   "name": "python",
   "nbconvert_exporter": "python",
   "pygments_lexer": "ipython3",
   "version": "3.9.5"
  }
 },
 "nbformat": 4,
 "nbformat_minor": 5
}
