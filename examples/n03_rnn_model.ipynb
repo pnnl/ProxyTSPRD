{
 "cells": [
  {
   "cell_type": "code",
   "execution_count": 1,
   "id": "44d53893-1ff3-4a1e-99f1-2e307e943df3",
   "metadata": {},
   "outputs": [],
   "source": [
    "# ------------------------------- IMPORT MODULES & SETUP ------------------------------------------------\n",
    "# Standard Libraries\n",
    "import os\n",
    "# os.environ['OMP_NUM_THREADS'] = '48'\n",
    "import math\n",
    "import json\n",
    "import datetime\n",
    "import numpy as np\n",
    "import time\n",
    "# import nvtx\n",
    "\n",
    "import argparse\n",
    "\n",
    "# ------------------------------- CUSTOM FUNCTIONS ------------------------------------------------\n",
    "# Custom Library\n",
    "import sys\n",
    "sys.path.append('../')\n",
    "\n",
    "from proxy_apps.utils import file_reader, path_handler\n",
    "from proxy_apps import ProxyTSPRD\n",
    "# from proxy_apps.apps.timeseries_prediction import deepDMD, proxyDeepDMD, proxyDeepDMDMGPU, proxyDeepDMDPyTorch, proxyDeepDMDPyTorchJIT, hyperparameters\n",
    "\n",
    "# from proxy_apps.utils.tf import TimingCallback\n",
    "# from proxy_apps.utils.data.main import NpEncoder\n",
    "# from proxy_apps.utils import file_reader, path_handler\n",
    "# from proxy_apps.utils.data.grid import GridNetworkDataHandler, GridNetworkTFDataHandler, GridNetworkNewGen, GridDataGenPyTorch"
   ]
  },
  {
   "cell_type": "code",
   "execution_count": 2,
   "id": "89f5a3a6-5382-4a98-b39f-df886585c51d",
   "metadata": {},
   "outputs": [],
   "source": [
    "## Initialize ProxyTSPRD\n",
    "_REF_DIR = os.path.dirname('./')\n",
    "config = file_reader.read_config('config_resnet.json')   "
   ]
  },
  {
   "cell_type": "code",
   "execution_count": 3,
   "id": "676cbacb-0cd5-483a-a64a-659454d74b9a",
   "metadata": {},
   "outputs": [],
   "source": [
    "# app info\n",
    "_APP_NAME = config['info']['app_name']\n",
    "_FRAMEWORK = config['info']['framework']\n",
    "\n",
    "_MIXED_PRECISION = 0\n",
    "\n",
    "# initialize the interface\n",
    "interface = ProxyTSPRD(_APP_NAME, _FRAMEWORK, _REF_DIR, _MIXED_PRECISION)\n",
    "# interface = ProxyTSPRD('config.json', _MODEL_NAME, _N_EPOCHS, _BATCH_SIZE, _MIXED_PRECISION, \n",
    "#                  _MACHINE_NAME, _N_GPUS, _N_CPUS,\n",
    "#                  _DATA_DIR, _MODEL_DIR, _FRAMEWORK)"
   ]
  },
  {
   "cell_type": "code",
   "execution_count": 4,
   "id": "49c0f0b3-b634-44cf-b529-17ba8f5d67eb",
   "metadata": {},
   "outputs": [
    {
     "name": "stdout",
     "output_type": "stream",
     "text": [
      "Training Data Directory: C:\\Users\\jain432\\OneDrive - PNNL\\Milan\\Workspace\\PNNL Projects\\PACER\\data\\ImageNet\\numpy\n",
      "Validation Data Directory: C:\\Users\\jain432\\OneDrive - PNNL\\Milan\\Workspace\\PNNL Projects\\PACER\\data\\ImageNet\\numpy\n"
     ]
    },
    {
     "data": {
      "text/plain": [
       "{'training_data': <ParallelInterleaveDataset shapes: ((32, 32, 3), ()), types: (tf.int64, tf.int64)>,\n",
       " 'val_data': <ParallelInterleaveDataset shapes: ((32, 32, 3), ()), types: (tf.int64, tf.int64)>,\n",
       " 'data_type': 'int64',\n",
       " 'training_data_format': 'image_data_generator'}"
      ]
     },
     "execution_count": 4,
     "metadata": {},
     "output_type": "execute_result"
    }
   ],
   "source": [
    "# load data\n",
    "training_data_dict = interface.load_data(config['data_params'])\n",
    "training_data_dict"
   ]
  },
  {
   "cell_type": "code",
   "execution_count": 5,
   "id": "238bc909-a87b-4a26-9306-332651c48a8c",
   "metadata": {},
   "outputs": [
    {
     "name": "stdout",
     "output_type": "stream",
     "text": [
      "2\n"
     ]
    }
   ],
   "source": [
    "count = 0\n",
    "for a in training_data_dict['val_data'].take(2):\n",
    "    count += 1\n",
    "#     print(a)\n",
    "print(count)"
   ]
  },
  {
   "cell_type": "code",
   "execution_count": 6,
   "id": "2560c00c-c40a-4d2e-9200-cb1aa7bb570a",
   "metadata": {
    "tags": []
   },
   "outputs": [
    {
     "name": "stdout",
     "output_type": "stream",
     "text": [
      "TensorBoard Log Directory Path:  C:\\Users\\jain432\\OneDrive - PNNL\\Milan\\Workspace\\PNNL Projects\\PACER\\logs\n",
      "Suffix:  A100_ng1_nc16_e1_b32_mp0_mgpuMirroredStrategy\n",
      "Model Path:  C:\\Users\\jain432\\OneDrive - PNNL\\Milan\\Workspace\\PNNL Projects\\PACER\\models\\A100_ng1_nc16_e1_b32_mp0_mgpuMirroredStrategy\n",
      "[INFO] Tensorflow version:  2.4.0\n",
      "[INFO] Eager mode:  True\n",
      "WARNING:tensorflow:There are non-GPU devices in `tf.distribute.Strategy`, not using nccl allreduce.\n",
      "INFO:tensorflow:Using MirroredStrategy with devices ('/job:localhost/replica:0/task:0/device:CPU:0',)\n",
      "Hyperparameters:  {'learning_rate': 0.01, 'num_epochs': 1, 'batch_size': 32, 'data_type': 'int64'}\n",
      "Model Name:  ResNet50\n",
      "Number of Replicas:  1\n",
      "10/10 [==============================] - 36s 1s/step - loss: 11.9462 - accuracy: 3.2165e-04\n",
      "INFO:tensorflow:Assets written to: C:\\Users\\jain432\\OneDrive - PNNL\\Milan\\Workspace\\PNNL Projects\\PACER\\models\\A100_ng1_nc16_e1_b32_mp0_mgpuMirroredStrategy\\assets\n",
      "[INFO]: Time taken for model training (time module): 41.73730731010437 seconds\n",
      "[INFO]: Time taken for model training (Keras): 35.8607955 seconds\n",
      "Loss Values: [12.025970458984375]\n"
     ]
    }
   ],
   "source": [
    "# model info\n",
    "_N_EPOCHS = 1\n",
    "_BATCH_SIZE = 32\n",
    "\n",
    "# machine info\n",
    "_MACHINE_NAME = 'A100'\n",
    "_N_GPUS = 1\n",
    "_N_CPUS = 16\n",
    "\n",
    "# optimization and scaling\n",
    "_MGPU_STRATEGY = \"MirroredStrategy\"\n",
    "\n",
    "interface.train_model(config['model_info'], training_data_dict, _N_EPOCHS, _BATCH_SIZE, _MACHINE_NAME, _N_GPUS, _N_CPUS, _MGPU_STRATEGY)"
   ]
  },
  {
   "cell_type": "code",
   "execution_count": 7,
   "id": "6c9f32a7-4750-4476-a1df-83a9be3e173b",
   "metadata": {},
   "outputs": [],
   "source": [
    "# # model info\n",
    "# _N_EPOCHS = 1\n",
    "# _BATCH_SIZE = 32\n",
    "\n",
    "# # machine info\n",
    "# _MACHINE_NAME = 'A100'\n",
    "# _N_GPUS = 4\n",
    "# _N_CPUS = 16\n",
    "\n",
    "# # optimization and scaling\n",
    "# _MGPU_STRATEGY = \"MirroredStrategy\"\n",
    "\n",
    "# interface.train_model(config['model_info'], training_data_dict, _N_EPOCHS, _BATCH_SIZE, _MACHINE_NAME, _N_GPUS, _N_CPUS, _MGPU_STRATEGY)"
   ]
  },
  {
   "cell_type": "code",
   "execution_count": null,
   "id": "1f5a6b20-42f0-4766-9f9b-b37bdc289e10",
   "metadata": {},
   "outputs": [],
   "source": []
  }
 ],
 "metadata": {
  "kernelspec": {
   "display_name": "Python 3 (ipykernel)",
   "language": "python",
   "name": "python3"
  },
  "language_info": {
   "codemirror_mode": {
    "name": "ipython",
    "version": 3
   },
   "file_extension": ".py",
   "mimetype": "text/x-python",
   "name": "python",
   "nbconvert_exporter": "python",
   "pygments_lexer": "ipython3",
   "version": "3.9.6"
  }
 },
 "nbformat": 4,
 "nbformat_minor": 5
}
