{
 "cells": [
  {
   "cell_type": "code",
   "execution_count": 1,
   "id": "44d53893-1ff3-4a1e-99f1-2e307e943df3",
   "metadata": {},
   "outputs": [],
   "source": [
    "# ------------------------------- IMPORT MODULES & SETUP ------------------------------------------------\n",
    "# Standard Libraries\n",
    "import os\n",
    "# os.environ['OMP_NUM_THREADS'] = '48'\n",
    "import math\n",
    "import json\n",
    "import datetime\n",
    "import numpy as np\n",
    "import time\n",
    "# import nvtx\n",
    "\n",
    "import argparse\n",
    "\n",
    "# ------------------------------- CUSTOM FUNCTIONS ------------------------------------------------\n",
    "# Custom Library\n",
    "import sys\n",
    "sys.path.append('../')\n",
    "\n",
    "from proxy_apps.utils import file_reader, path_handler\n",
    "from proxy_apps import ProxyTSPRD\n",
    "# from proxy_apps.apps.timeseries_prediction import deepDMD, proxyDeepDMD, proxyDeepDMDMGPU, proxyDeepDMDPyTorch, proxyDeepDMDPyTorchJIT, hyperparameters\n",
    "\n",
    "# from proxy_apps.utils.tf import TimingCallback\n",
    "# from proxy_apps.utils.data.main import NpEncoder\n",
    "# from proxy_apps.utils import file_reader, path_handler\n",
    "# from proxy_apps.utils.data.grid import GridNetworkDataHandler, GridNetworkTFDataHandler, GridNetworkNewGen, GridDataGenPyTorch"
   ]
  },
  {
   "cell_type": "code",
   "execution_count": 2,
   "id": "89f5a3a6-5382-4a98-b39f-df886585c51d",
   "metadata": {},
   "outputs": [],
   "source": [
    "## Initialize ProxyTSPRD\n",
    "_REF_DIR = os.path.dirname('./')\n",
    "config = file_reader.read_config('config_tfdataopt.json')   "
   ]
  },
  {
   "cell_type": "code",
   "execution_count": 3,
   "id": "676cbacb-0cd5-483a-a64a-659454d74b9a",
   "metadata": {},
   "outputs": [],
   "source": [
    "# app info\n",
    "_APP_NAME = config['info']['app_name']\n",
    "_FRAMEWORK = config['info']['framework']\n",
    "\n",
    "# initialize the interface\n",
    "interface = ProxyTSPRD(_APP_NAME, _FRAMEWORK, _REF_DIR)\n",
    "# interface = ProxyTSPRD('config.json', _MODEL_NAME, _N_EPOCHS, _BATCH_SIZE, _MIXED_PRECISION, \n",
    "#                  _MACHINE_NAME, _N_GPUS, _N_CPUS,\n",
    "#                  _DATA_DIR, _MODEL_DIR, _FRAMEWORK)"
   ]
  },
  {
   "cell_type": "code",
   "execution_count": 4,
   "id": "49c0f0b3-b634-44cf-b529-17ba8f5d67eb",
   "metadata": {},
   "outputs": [
    {
     "name": "stdout",
     "output_type": "stream",
     "text": [
      "Training Data Directory: C:\\Users\\jain432\\OneDrive - PNNL\\Milan\\Workspace\\PNNL Projects\\PACER\\data\\TrainingDataIEEE68bus\n"
     ]
    },
    {
     "data": {
      "text/plain": [
       "{'input_dim': 136,\n",
       " 'floatx': 'float64',\n",
       " 'data_type': 'data_generator',\n",
       " 'data': <FlatMapDataset shapes: ((136,), (136,)), types: (tf.float64, tf.float64)>}"
      ]
     },
     "execution_count": 4,
     "metadata": {},
     "output_type": "execute_result"
    }
   ],
   "source": [
    "# load data\n",
    "training_data_dict = interface.load_data(config['data_params'])\n",
    "training_data_dict"
   ]
  },
  {
   "cell_type": "code",
   "execution_count": 5,
   "id": "6c9f32a7-4750-4476-a1df-83a9be3e173b",
   "metadata": {},
   "outputs": [
    {
     "name": "stdout",
     "output_type": "stream",
     "text": [
      "TensorBoard Log Directory Path:  C:\\Users\\jain432\\OneDrive - PNNL\\Milan\\Workspace\\PNNL Projects\\PACER\\logs\n",
      "Suffix:  A100_ng1_nc16_e1_b32_mp0_mgpuNone\n",
      "Model Path:  C:\\Users\\jain432\\OneDrive - PNNL\\Milan\\Workspace\\PNNL Projects\\PACER\\models\\A100_ng1_nc16_e1_b32_mp0_mgpuNone\n",
      "[INFO] Tensorflow version:  2.4.0\n",
      "[INFO] Eager mode:  True\n",
      "Hyperparameters:  {'hl_1_dim': 128, 'hl_2_dim': 128, 'hl_3_dim': 64, 'hl_4_dim': 64, 'latent_dim': 64, 'reg_factor': 0, 'dropout_prob': 0.005, 'weight_regularizer': 0.001, 'bias_regularizer': 0, 'learning_rate': 0.0005, 'validation_split': 0.25, 'num_epochs': 1, 'batch_size': 32, 'floatx': 'float64', 'original_dim': 136}\n",
      "45000/45000 [==============================] - 406s 9ms/step - loss: 2.6971\n"
     ]
    },
    {
     "ename": "NameError",
     "evalue": "name 'timing_cb' is not defined",
     "output_type": "error",
     "traceback": [
      "\u001b[1;31m---------------------------------------------------------------------------\u001b[0m",
      "\u001b[1;31mNameError\u001b[0m                                 Traceback (most recent call last)",
      "\u001b[1;32m~\\AppData\\Local\\Temp/ipykernel_21536/529488239.py\u001b[0m in \u001b[0;36m<module>\u001b[1;34m\u001b[0m\n\u001b[0;32m     12\u001b[0m \u001b[0m_MGPU_STRATEGY\u001b[0m \u001b[1;33m=\u001b[0m \u001b[1;32mNone\u001b[0m \u001b[1;31m# \"MirroredStrategy\"\u001b[0m\u001b[1;33m\u001b[0m\u001b[1;33m\u001b[0m\u001b[0m\n\u001b[0;32m     13\u001b[0m \u001b[1;33m\u001b[0m\u001b[0m\n\u001b[1;32m---> 14\u001b[1;33m \u001b[0minterface\u001b[0m\u001b[1;33m.\u001b[0m\u001b[0mtrain_model\u001b[0m\u001b[1;33m(\u001b[0m\u001b[0mconfig\u001b[0m\u001b[1;33m[\u001b[0m\u001b[1;34m'model_info'\u001b[0m\u001b[1;33m]\u001b[0m\u001b[1;33m,\u001b[0m \u001b[0mtraining_data_dict\u001b[0m\u001b[1;33m,\u001b[0m \u001b[0m_N_EPOCHS\u001b[0m\u001b[1;33m,\u001b[0m \u001b[0m_BATCH_SIZE\u001b[0m\u001b[1;33m,\u001b[0m \u001b[0m_MACHINE_NAME\u001b[0m\u001b[1;33m,\u001b[0m \u001b[0m_N_GPUS\u001b[0m\u001b[1;33m,\u001b[0m \u001b[0m_N_CPUS\u001b[0m\u001b[1;33m,\u001b[0m \u001b[0m_MIXED_PRECISION\u001b[0m\u001b[1;33m,\u001b[0m \u001b[0m_MGPU_STRATEGY\u001b[0m\u001b[1;33m)\u001b[0m\u001b[1;33m\u001b[0m\u001b[1;33m\u001b[0m\u001b[0m\n\u001b[0m",
      "\u001b[1;32m~\\OneDrive - PNNL\\Milan\\Workspace\\PNNL Projects\\PACER\\code\\src\\proxy_apps\\main.py\u001b[0m in \u001b[0;36mtrain_model\u001b[1;34m(self, model_info, data_dict, n_epochs, batch_size, machine_name, n_gpus, n_cpus, mixed_precision, mgpu_strategy)\u001b[0m\n\u001b[0;32m     68\u001b[0m \u001b[1;33m\u001b[0m\u001b[0m\n\u001b[0;32m     69\u001b[0m         \u001b[1;31m# train model\u001b[0m\u001b[1;33m\u001b[0m\u001b[1;33m\u001b[0m\u001b[1;33m\u001b[0m\u001b[0m\n\u001b[1;32m---> 70\u001b[1;33m         \u001b[0mmodel\u001b[0m\u001b[1;33m,\u001b[0m \u001b[0mm_start\u001b[0m\u001b[1;33m,\u001b[0m \u001b[0mm_stop\u001b[0m\u001b[1;33m,\u001b[0m \u001b[0mall_loss\u001b[0m\u001b[1;33m,\u001b[0m \u001b[0mepoch_time\u001b[0m \u001b[1;33m=\u001b[0m \u001b[0mself\u001b[0m\u001b[1;33m.\u001b[0m\u001b[0menv\u001b[0m\u001b[1;33m.\u001b[0m\u001b[0mtrain_model\u001b[0m\u001b[1;33m(\u001b[0m\u001b[0mdata_dict\u001b[0m\u001b[1;33m)\u001b[0m\u001b[1;33m\u001b[0m\u001b[1;33m\u001b[0m\u001b[0m\n\u001b[0m\u001b[0;32m     71\u001b[0m \u001b[1;33m\u001b[0m\u001b[0m\n\u001b[0;32m     72\u001b[0m         \u001b[1;31m# print info\u001b[0m\u001b[1;33m\u001b[0m\u001b[1;33m\u001b[0m\u001b[1;33m\u001b[0m\u001b[0m\n",
      "\u001b[1;32m~\\OneDrive - PNNL\\Milan\\Workspace\\PNNL Projects\\PACER\\code\\src\\proxy_apps\\tensorflow_interface.py\u001b[0m in \u001b[0;36mtrain_model\u001b[1;34m(self, data_dict, callbacks)\u001b[0m\n\u001b[0;32m    161\u001b[0m                             shuffle=True)\n\u001b[0;32m    162\u001b[0m         \u001b[0mm_stop\u001b[0m \u001b[1;33m=\u001b[0m \u001b[0mtime\u001b[0m\u001b[1;33m.\u001b[0m\u001b[0mtime\u001b[0m\u001b[1;33m(\u001b[0m\u001b[1;33m)\u001b[0m\u001b[1;33m\u001b[0m\u001b[1;33m\u001b[0m\u001b[0m\n\u001b[1;32m--> 163\u001b[1;33m \u001b[1;33m\u001b[0m\u001b[0m\n\u001b[0m\u001b[0;32m    164\u001b[0m         \u001b[1;31m# get info\u001b[0m\u001b[1;33m\u001b[0m\u001b[1;33m\u001b[0m\u001b[1;33m\u001b[0m\u001b[0m\n\u001b[0;32m    165\u001b[0m         \u001b[0mepoch_time\u001b[0m \u001b[1;33m=\u001b[0m \u001b[0mtiming_cb\u001b[0m\u001b[1;33m.\u001b[0m\u001b[0mlogs\u001b[0m\u001b[1;33m\u001b[0m\u001b[1;33m\u001b[0m\u001b[0m\n",
      "\u001b[1;31mNameError\u001b[0m: name 'timing_cb' is not defined"
     ]
    }
   ],
   "source": [
    "# model info\n",
    "_N_EPOCHS = 1\n",
    "_BATCH_SIZE = 32\n",
    "\n",
    "# machine info\n",
    "_MACHINE_NAME = 'A100'\n",
    "_N_GPUS = 1\n",
    "_N_CPUS = 16\n",
    "\n",
    "# optimization and scaling\n",
    "_MIXED_PRECISION = 0\n",
    "_MGPU_STRATEGY = None # \"MirroredStrategy\"\n",
    "\n",
    "interface.train_model(config['model_info'], training_data_dict, _N_EPOCHS, _BATCH_SIZE, _MACHINE_NAME, _N_GPUS, _N_CPUS, _MIXED_PRECISION, _MGPU_STRATEGY)"
   ]
  },
  {
   "cell_type": "code",
   "execution_count": null,
   "id": "68345e8a-a27a-4664-9718-34cfce3ef481",
   "metadata": {},
   "outputs": [],
   "source": [
    "for a, b in training_data_dict['data'].take(1):\n",
    "    print(a, b)"
   ]
  },
  {
   "cell_type": "code",
   "execution_count": null,
   "id": "1f5a6b20-42f0-4766-9f9b-b37bdc289e10",
   "metadata": {},
   "outputs": [],
   "source": []
  }
 ],
 "metadata": {
  "kernelspec": {
   "display_name": "Python 3 (ipykernel)",
   "language": "python",
   "name": "python3"
  },
  "language_info": {
   "codemirror_mode": {
    "name": "ipython",
    "version": 3
   },
   "file_extension": ".py",
   "mimetype": "text/x-python",
   "name": "python",
   "nbconvert_exporter": "python",
   "pygments_lexer": "ipython3",
   "version": "3.7.11"
  }
 },
 "nbformat": 4,
 "nbformat_minor": 5
}
