{
 "cells": [
  {
   "cell_type": "code",
   "execution_count": 1,
   "id": "44d53893-1ff3-4a1e-99f1-2e307e943df3",
   "metadata": {},
   "outputs": [],
   "source": [
    "# ------------------------------- IMPORT MODULES & SETUP ------------------------------------------------\n",
    "# Standard Libraries\n",
    "import os\n",
    "# os.environ['OMP_NUM_THREADS'] = '48'\n",
    "import math\n",
    "import json\n",
    "import datetime\n",
    "import numpy as np\n",
    "import time\n",
    "# import nvtx\n",
    "\n",
    "import argparse\n",
    "\n",
    "# ------------------------------- CUSTOM FUNCTIONS ------------------------------------------------\n",
    "# Custom Library\n",
    "import sys\n",
    "sys.path.append('../')\n",
    "\n",
    "from proxy_apps.utils import file_reader, path_handler\n",
    "from proxy_apps import ProxyTSPRD\n",
    "# from proxy_apps.apps.timeseries_prediction import deepDMD, proxyDeepDMD, proxyDeepDMDMGPU, proxyDeepDMDPyTorch, proxyDeepDMDPyTorchJIT, hyperparameters\n",
    "\n",
    "# from proxy_apps.utils.tf import TimingCallback\n",
    "# from proxy_apps.utils.data.main import NpEncoder\n",
    "# from proxy_apps.utils import file_reader, path_handler\n",
    "# from proxy_apps.utils.data.grid import GridNetworkDataHandler, GridNetworkTFDataHandler, GridNetworkNewGen, GridDataGenPyTorch"
   ]
  },
  {
   "cell_type": "code",
   "execution_count": 2,
   "id": "89f5a3a6-5382-4a98-b39f-df886585c51d",
   "metadata": {},
   "outputs": [],
   "source": [
    "## Initialize ProxyTSPRD\n",
    "_REF_DIR = os.path.dirname('./')\n",
    "config = file_reader.read_config('config_tfdataopt.json')   "
   ]
  },
  {
   "cell_type": "code",
   "execution_count": 3,
   "id": "676cbacb-0cd5-483a-a64a-659454d74b9a",
   "metadata": {},
   "outputs": [],
   "source": [
    "# app info\n",
    "_APP_NAME = config['info']['app_name']\n",
    "_FRAMEWORK = config['info']['framework']\n",
    "\n",
    "_MIXED_PRECISION = 0\n",
    "\n",
    "# initialize the interface\n",
    "interface = ProxyTSPRD(_APP_NAME, _FRAMEWORK, _REF_DIR, _MIXED_PRECISION)\n",
    "# interface = ProxyTSPRD('config.json', _MODEL_NAME, _N_EPOCHS, _BATCH_SIZE, _MIXED_PRECISION, \n",
    "#                  _MACHINE_NAME, _N_GPUS, _N_CPUS,\n",
    "#                  _DATA_DIR, _MODEL_DIR, _FRAMEWORK)"
   ]
  },
  {
   "cell_type": "code",
   "execution_count": 4,
   "id": "49c0f0b3-b634-44cf-b529-17ba8f5d67eb",
   "metadata": {},
   "outputs": [
    {
     "name": "stdout",
     "output_type": "stream",
     "text": [
      "Training Data Directory: C:\\Users\\jain432\\OneDrive - PNNL\\Milan\\Workspace\\PNNL Projects\\PACER\\data\\TrainingDataIEEE68bus\n",
      "[INFO]: Loading the datasets from the directory: C:\\Users\\jain432\\OneDrive - PNNL\\Milan\\Workspace\\PNNL Projects\\PACER\\data\\TrainingDataIEEE68bus\n",
      "[INFO]: Loading data for 10 scenarios ...\n",
      "[INFO]: Loaded 10/10 scenarios ...\n",
      "[INFO]: Total number of scenarios loaded: 10\n",
      "[INFO]: Shape of each scenario loaded:  (1400, 136)\n",
      "[INFO]: Done ...\n",
      "Done processing 10/10 datasets ...\n",
      "[INFO]: Original dataset size: 1400\n",
      "[INFO]: Chosen dataset size: 800\n",
      "[INFO]: Length of X_data:  600\n",
      "[INFO]: Length of each window after down sampling:  (800, 136)\n",
      "[INFO]: X_array shape:  (480000, 136)\n",
      "[INFO]: Y_array shape:  (480000, 136)\n",
      "68\n"
     ]
    },
    {
     "data": {
      "text/plain": [
       "{'input_dim': 136,\n",
       " 'data_type': 'float64',\n",
       " 'training_data_format': 'split_array',\n",
       " 'n_windows': 600,\n",
       " 'window_size': 800,\n",
       " 'n_scenarios': 10,\n",
       " 'data': [array([[-1.41652882e-01, -3.84435577e-02, -1.61473860e-02, ...,\n",
       "           7.62615773e-03, -7.24651597e-04, -1.58421639e-02],\n",
       "         [-1.35115266e-01, -2.83745780e-02, -6.85915666e-03, ...,\n",
       "           6.82751504e-03, -7.19737564e-04, -1.48963824e-02],\n",
       "         [-1.28491166e-01, -1.88452766e-02,  1.73561892e-03, ...,\n",
       "           6.00273189e-03, -7.26471621e-04, -1.39310853e-02],\n",
       "         ...,\n",
       "         [-4.21583477e-05, -3.94141015e-05, -3.78506129e-05, ...,\n",
       "           1.30229956e-04,  8.45273695e-05,  5.54410528e-04],\n",
       "         [-4.14323010e-05, -2.93205294e-05, -2.71951287e-05, ...,\n",
       "           1.29767398e-04,  8.43050941e-05,  5.52101705e-04],\n",
       "         [-4.01020494e-05, -1.90438247e-05, -1.64542713e-05, ...,\n",
       "           1.29327153e-04,  8.40828928e-05,  5.49790951e-04]]),\n",
       "  array([[-1.35115266e-01, -2.83745780e-02, -6.85915666e-03, ...,\n",
       "           6.82751504e-03, -7.19737564e-04, -1.48963824e-02],\n",
       "         [-1.28491166e-01, -1.88452766e-02,  1.73561892e-03, ...,\n",
       "           6.00273189e-03, -7.26471621e-04, -1.39310853e-02],\n",
       "         [-1.21823138e-01, -9.93181096e-03,  9.57996789e-03, ...,\n",
       "           5.15423500e-03, -7.45451793e-04, -1.29491021e-02],\n",
       "         ...,\n",
       "         [-4.14323010e-05, -2.93205294e-05, -2.71951287e-05, ...,\n",
       "           1.29767398e-04,  8.43050941e-05,  5.52101705e-04],\n",
       "         [-4.01020494e-05, -1.90438247e-05, -1.64542713e-05, ...,\n",
       "           1.29327153e-04,  8.40828928e-05,  5.49790951e-04],\n",
       "         [-3.81798471e-05, -8.64139932e-06, -5.68297386e-06, ...,\n",
       "           1.28910782e-04,  8.38614529e-05,  5.47488280e-04]])]}"
      ]
     },
     "execution_count": 4,
     "metadata": {},
     "output_type": "execute_result"
    }
   ],
   "source": [
    "# load data\n",
    "training_data_dict = interface.load_data(config['data_params'])\n",
    "training_data_dict"
   ]
  },
  {
   "cell_type": "code",
   "execution_count": 5,
   "id": "6c9f32a7-4750-4476-a1df-83a9be3e173b",
   "metadata": {},
   "outputs": [
    {
     "name": "stdout",
     "output_type": "stream",
     "text": [
      "TensorBoard Log Directory Path:  C:\\Users\\jain432\\OneDrive - PNNL\\Milan\\Workspace\\PNNL Projects\\PACER\\logs\n",
      "Suffix:  A100_ng4_nc16_e1_b32_mp0_mgpuMirroredStrategy\n",
      "Model Path:  C:\\Users\\jain432\\OneDrive - PNNL\\Milan\\Workspace\\PNNL Projects\\PACER\\models\\A100_ng4_nc16_e1_b32_mp0_mgpuMirroredStrategy\n",
      "[INFO] Tensorflow version:  2.4.0\n",
      "[INFO] Eager mode:  True\n",
      "WARNING:tensorflow:There are non-GPU devices in `tf.distribute.Strategy`, not using nccl allreduce.\n",
      "INFO:tensorflow:Using MirroredStrategy with devices ('/job:localhost/replica:0/task:0/device:CPU:0',)\n",
      "Hyperparameters:  {'hl_1_dim': 128, 'hl_2_dim': 128, 'hl_3_dim': 64, 'hl_4_dim': 64, 'latent_dim': 64, 'reg_factor': 0, 'dropout_prob': 0.005, 'weight_regularizer': 0.001, 'bias_regularizer': 0, 'learning_rate': 0.0005, 'validation_split': 0.25, 'num_epochs': 1, 'batch_size': 32, 'data_type': 'float64', 'original_dim': 136}\n",
      "    5/15000 [..............................] - ETA: 3:10 - loss: 24.7358    WARNING:tensorflow:Callback method `on_train_batch_begin` is slow compared to the batch time (batch time: 0.0032s vs `on_train_batch_begin` time: 0.0852s). Check your callbacks.\n",
      "WARNING:tensorflow:Callback method `on_train_batch_end` is slow compared to the batch time (batch time: 0.0032s vs `on_train_batch_end` time: 0.0066s). Check your callbacks.\n",
      "15000/15000 [==============================] - 48s 3ms/step - loss: 4.0537\n"
     ]
    },
    {
     "name": "stderr",
     "output_type": "stream",
     "text": [
      "WARNING:absl:Found untraced functions such as dense_layer_layer_call_fn, dense_layer_layer_call_and_return_conditional_losses, dense_layer_1_layer_call_fn, dense_layer_1_layer_call_and_return_conditional_losses, dropout_layer_call_fn while saving (showing 5 of 40). These functions will not be directly callable after loading.\n",
      "WARNING:absl:Found untraced functions such as dense_layer_layer_call_fn, dense_layer_layer_call_and_return_conditional_losses, dense_layer_1_layer_call_fn, dense_layer_1_layer_call_and_return_conditional_losses, dropout_layer_call_fn while saving (showing 5 of 40). These functions will not be directly callable after loading.\n"
     ]
    },
    {
     "name": "stdout",
     "output_type": "stream",
     "text": [
      "INFO:tensorflow:Assets written to: C:\\Users\\jain432\\OneDrive - PNNL\\Milan\\Workspace\\PNNL Projects\\PACER\\models\\A100_ng4_nc16_e1_b32_mp0_mgpuMirroredStrategy\\assets\n"
     ]
    },
    {
     "name": "stderr",
     "output_type": "stream",
     "text": [
      "INFO:tensorflow:Assets written to: C:\\Users\\jain432\\OneDrive - PNNL\\Milan\\Workspace\\PNNL Projects\\PACER\\models\\A100_ng4_nc16_e1_b32_mp0_mgpuMirroredStrategy\\assets\n"
     ]
    },
    {
     "name": "stdout",
     "output_type": "stream",
     "text": [
      "[INFO]: Time taken for model training (time module): 48.02325367927551 seconds\n",
      "[INFO]: Time taken for model training (Keras): 47.5031981 seconds\n",
      "Loss Values: [3.162826147989396]\n"
     ]
    }
   ],
   "source": [
    "# model info\n",
    "_N_EPOCHS = 1\n",
    "_BATCH_SIZE = 32\n",
    "\n",
    "# machine info\n",
    "_MACHINE_NAME = 'A100'\n",
    "_N_GPUS = 4\n",
    "_N_CPUS = 16\n",
    "\n",
    "# optimization and scaling\n",
    "_MGPU_STRATEGY = \"MirroredStrategy\"\n",
    "\n",
    "interface.train_model(config['model_info'], training_data_dict, _N_EPOCHS, _BATCH_SIZE, _MACHINE_NAME, _N_GPUS, _N_CPUS, _MGPU_STRATEGY)"
   ]
  },
  {
   "cell_type": "code",
   "execution_count": null,
   "id": "1f5a6b20-42f0-4766-9f9b-b37bdc289e10",
   "metadata": {},
   "outputs": [],
   "source": []
  }
 ],
 "metadata": {
  "kernelspec": {
   "display_name": "Python 3 (ipykernel)",
   "language": "python",
   "name": "python3"
  },
  "language_info": {
   "codemirror_mode": {
    "name": "ipython",
    "version": 3
   },
   "file_extension": ".py",
   "mimetype": "text/x-python",
   "name": "python",
   "nbconvert_exporter": "python",
   "pygments_lexer": "ipython3",
   "version": "3.7.11"
  }
 },
 "nbformat": 4,
 "nbformat_minor": 5
}
