{
 "cells": [
  {
   "cell_type": "code",
   "execution_count": 1,
   "id": "4f1045b2",
   "metadata": {},
   "outputs": [
    {
     "name": "stderr",
     "output_type": "stream",
     "text": [
      "2023-07-08 01:00:11.927807: I tensorflow/core/platform/cpu_feature_guard.cc:193] This TensorFlow binary is optimized with oneAPI Deep Neural Network Library (oneDNN) to use the following CPU instructions in performance-critical operations:  AVX2 FMA\n",
      "To enable them in other operations, rebuild TensorFlow with the appropriate compiler flags.\n",
      "2023-07-08 01:00:12.081217: W tensorflow/compiler/xla/stream_executor/platform/default/dso_loader.cc:64] Could not load dynamic library 'libcudart.so.11.0'; dlerror: libcudart.so.11.0: cannot open shared object file: No such file or directory; LD_LIBRARY_PATH: /usr/lib64/:/share/apps/python/miniconda3.9/lib\n",
      "2023-07-08 01:00:12.081249: I tensorflow/compiler/xla/stream_executor/cuda/cudart_stub.cc:29] Ignore above cudart dlerror if you do not have a GPU set up on your machine.\n",
      "2023-07-08 01:00:14.040295: W tensorflow/compiler/xla/stream_executor/platform/default/dso_loader.cc:64] Could not load dynamic library 'libnvinfer.so.7'; dlerror: libnvinfer.so.7: cannot open shared object file: No such file or directory; LD_LIBRARY_PATH: /usr/lib64/:/share/apps/python/miniconda3.9/lib\n",
      "2023-07-08 01:00:14.040377: W tensorflow/compiler/xla/stream_executor/platform/default/dso_loader.cc:64] Could not load dynamic library 'libnvinfer_plugin.so.7'; dlerror: libnvinfer_plugin.so.7: cannot open shared object file: No such file or directory; LD_LIBRARY_PATH: /usr/lib64/:/share/apps/python/miniconda3.9/lib\n",
      "2023-07-08 01:00:14.040384: W tensorflow/compiler/tf2tensorrt/utils/py_utils.cc:38] TF-TRT Warning: Cannot dlopen some TensorRT libraries. If you would like to use Nvidia GPU with TensorRT, please make sure the missing libraries mentioned above are installed properly.\n"
     ]
    }
   ],
   "source": [
    "import numpy as np\n",
    "import pandas as pd\n",
    "import tensorflow as tf"
   ]
  },
  {
   "cell_type": "code",
   "execution_count": 2,
   "id": "223eef6a",
   "metadata": {},
   "outputs": [
    {
     "data": {
      "text/plain": [
       "'2.11.0'"
      ]
     },
     "execution_count": 2,
     "metadata": {},
     "output_type": "execute_result"
    }
   ],
   "source": [
    "tf.__version__"
   ]
  },
  {
   "cell_type": "code",
   "execution_count": 3,
   "id": "e56c1bed",
   "metadata": {},
   "outputs": [],
   "source": [
    "df = pd.read_csv(\"../../../../../../data/ISDProcessed/2018/wona_temp.csv\", index_col=[0])\n",
    "data = df.values.astype(\"float32\")"
   ]
  },
  {
   "cell_type": "code",
   "execution_count": 4,
   "id": "64712b05",
   "metadata": {},
   "outputs": [],
   "source": [
    "def get_indexer(\n",
    "        n_rows, \n",
    "        window_size, \n",
    "        shift_size, \n",
    "        start_point, \n",
    "        leave_last\n",
    "    ):\n",
    "    return np.arange(window_size)[None, :] + start_point + shift_size*np.arange(((n_rows - window_size - leave_last - start_point) // shift_size) + 1)[:, None]"
   ]
  },
  {
   "cell_type": "code",
   "execution_count": 5,
   "id": "3e9d1827",
   "metadata": {},
   "outputs": [],
   "source": [
    "x_indexer = get_indexer(data.shape[0], 60, 1, 0, 30)\n",
    "y_indexer = get_indexer(data.shape[0], 30, 1, 60, 0)"
   ]
  },
  {
   "cell_type": "code",
   "execution_count": 6,
   "id": "0af3a10d",
   "metadata": {},
   "outputs": [
    {
     "name": "stderr",
     "output_type": "stream",
     "text": [
      "2023-07-08 01:00:17.687653: W tensorflow/compiler/xla/stream_executor/platform/default/dso_loader.cc:64] Could not load dynamic library 'libcuda.so.1'; dlerror: libcuda.so.1: cannot open shared object file: No such file or directory; LD_LIBRARY_PATH: /usr/lib64/:/share/apps/python/miniconda3.9/lib\n",
      "2023-07-08 01:00:17.687692: W tensorflow/compiler/xla/stream_executor/cuda/cuda_driver.cc:265] failed call to cuInit: UNKNOWN ERROR (303)\n",
      "2023-07-08 01:00:17.687721: I tensorflow/compiler/xla/stream_executor/cuda/cuda_diagnostics.cc:156] kernel driver does not appear to be running on this host (deception01.pnl.gov): /proc/driver/nvidia/version does not exist\n",
      "2023-07-08 01:00:17.688050: I tensorflow/core/platform/cpu_feature_guard.cc:193] This TensorFlow binary is optimized with oneAPI Deep Neural Network Library (oneDNN) to use the following CPU instructions in performance-critical operations:  AVX2 FMA\n",
      "To enable them in other operations, rebuild TensorFlow with the appropriate compiler flags.\n"
     ]
    }
   ],
   "source": [
    "norm = tf.keras.layers.Normalization()\n",
    "norm.adapt(data)\n",
    "\n",
    "denorm = tf.keras.layers.Normalization(invert=True)\n",
    "denorm.adapt(data)"
   ]
  },
  {
   "cell_type": "code",
   "execution_count": 7,
   "id": "8933a2f8",
   "metadata": {},
   "outputs": [
    {
     "data": {
      "text/plain": [
       "array([[-2.2749598 , -2.0129623 , -2.7161915 , ..., -2.2888901 ,\n",
       "        -2.1037984 , -1.6375939 ],\n",
       "       [-2.2749598 , -2.0129623 , -2.6973066 , ..., -2.310769  ,\n",
       "        -2.1346464 , -1.6375939 ],\n",
       "       [-2.3305948 , -2.063324  , -2.6973066 , ..., -2.3632782 ,\n",
       "        -2.1860602 , -1.723573  ],\n",
       "       ...,\n",
       "       [-0.6120875 ,  0.06193393, -1.5188951 , ..., -0.46419543,\n",
       "        -0.2220609 ,  0.5118836 ],\n",
       "       [-0.60126954,  0.08711471, -1.5642186 , ..., -0.5167046 ,\n",
       "        -0.19121273,  0.33992532],\n",
       "       [-0.5780882 ,  0.11229549, -1.6170962 , ..., -0.5604623 ,\n",
       "        -0.10895097,  0.26827607]], dtype=float32)"
      ]
     },
     "execution_count": 7,
     "metadata": {},
     "output_type": "execute_result"
    }
   ],
   "source": [
    "norm_data = norm(data).numpy()\n",
    "norm_data"
   ]
  },
  {
   "cell_type": "code",
   "execution_count": 8,
   "id": "67699c39",
   "metadata": {},
   "outputs": [],
   "source": [
    "inp_data = norm_data[x_indexer]\n",
    "out_data = norm_data[y_indexer]\n",
    "tf_data = tf.data.Dataset.from_tensor_slices((inp_data, out_data))"
   ]
  },
  {
   "cell_type": "code",
   "execution_count": 9,
   "id": "5d644c4e",
   "metadata": {},
   "outputs": [],
   "source": [
    "tf_data = tf_data.batch(64)"
   ]
  },
  {
   "cell_type": "code",
   "execution_count": 10,
   "id": "3ea3deb1",
   "metadata": {},
   "outputs": [],
   "source": [
    "def get_model(model_name=\"lstm_\"):\n",
    "    if model_name == \"lstm_\":\n",
    "        inputs = tf.keras.Input(shape=(60, data.shape[1]))\n",
    "        x = tf.keras.layers.LSTM(64)(inputs)\n",
    "        x = tf.keras.layers.RepeatVector(30)(x)\n",
    "        output = tf.keras.layers.TimeDistributed(\n",
    "                tf.keras.layers.Dense(data.shape[1])\n",
    "            )(x)\n",
    "    elif model_name == \"lstm_wnorm\":\n",
    "        inputs = tf.keras.Input(shape=(60, data.shape[1]))\n",
    "        x = tf.keras.layers.BatchNormalization()(inputs)\n",
    "        x = tf.keras.layers.LSTM(64)(x)\n",
    "        x = tf.keras.layers.LayerNormalization()(x)\n",
    "        x = tf.keras.layers.RepeatVector(30)(x)\n",
    "        output = tf.keras.layers.TimeDistributed(\n",
    "                tf.keras.layers.Dense(data.shape[1])\n",
    "            )(x)\n",
    "    elif model_name == \"lstm_dense\":\n",
    "        inputs = tf.keras.Input(shape=(60, data.shape[1]))\n",
    "        x = tf.keras.layers.LSTM(64)(inputs)\n",
    "        x = tf.keras.layers.Dense(30*data.shape[1])(x)\n",
    "        output = tf.keras.layers.Reshape((30, data.shape[1]))(x)\n",
    "    elif model_name == \"lstm_dense_wnorm\":\n",
    "        inputs = tf.keras.Input(shape=(60, data.shape[1]))\n",
    "        x = tf.keras.layers.LSTM(64)(inputs)\n",
    "        x = tf.keras.layers.LayerNormalization()(x)\n",
    "        x = tf.keras.layers.Dense(30*data.shape[1])(x)\n",
    "        output = tf.keras.layers.Reshape((30, data.shape[1]))(x)\n",
    "    elif model_name == \"lstm2_dense\":\n",
    "        inputs = tf.keras.Input(shape=(60, data.shape[1]))\n",
    "        x = tf.keras.layers.LSTM(64, return_sequences=True)(inputs)\n",
    "        x = tf.keras.layers.LSTM(32)(x)\n",
    "        x = tf.keras.layers.Dense(30*data.shape[1])(x)\n",
    "        output = tf.keras.layers.Reshape((30, data.shape[1]))(x)\n",
    "    elif model_name == \"bilstm_dense\":\n",
    "        inputs = tf.keras.Input(shape=(60, data.shape[1]))\n",
    "        x = tf.keras.layers.Bidirectional(tf.keras.layers.LSTM(64))(inputs)\n",
    "        x = tf.keras.layers.Dense(30*data.shape[1])(x)\n",
    "        output = tf.keras.layers.Reshape((30, data.shape[1]))(x)\n",
    "    elif model_name == \"bilstm128_dense\":\n",
    "        inputs = tf.keras.Input(shape=(60, data.shape[1]))\n",
    "        x = tf.keras.layers.Bidirectional(tf.keras.layers.LSTM(128))(inputs)\n",
    "        x = tf.keras.layers.Dense(30*data.shape[1])(x)\n",
    "        output = tf.keras.layers.Reshape((30, data.shape[1]))(x)\n",
    "    \n",
    "    model = tf.keras.Model(inputs, output)\n",
    "    return model"
   ]
  },
  {
   "cell_type": "code",
   "execution_count": 11,
   "id": "a5f85349",
   "metadata": {},
   "outputs": [
    {
     "name": "stdout",
     "output_type": "stream",
     "text": [
      "Epoch 1/50\n",
      "136/136 [==============================] - 12s 68ms/step - loss: 0.4482 - mse: 0.4482 - mape: 325.9180 - mae: 0.5139\n",
      "Epoch 2/50\n",
      "136/136 [==============================] - 9s 64ms/step - loss: 0.3204 - mse: 0.3204 - mape: 345.0469 - mae: 0.4398\n",
      "Epoch 3/50\n",
      "136/136 [==============================] - 9s 63ms/step - loss: 0.2738 - mse: 0.2738 - mape: 313.4369 - mae: 0.4026\n",
      "Epoch 4/50\n",
      "136/136 [==============================] - 9s 63ms/step - loss: 0.2410 - mse: 0.2410 - mape: 298.9063 - mae: 0.3741\n",
      "Epoch 5/50\n",
      "136/136 [==============================] - 9s 63ms/step - loss: 0.2174 - mse: 0.2174 - mape: 283.3985 - mae: 0.3553\n",
      "Epoch 6/50\n",
      "136/136 [==============================] - 9s 63ms/step - loss: 0.2072 - mse: 0.2072 - mape: 277.2119 - mae: 0.3479\n",
      "Epoch 7/50\n",
      "136/136 [==============================] - 9s 64ms/step - loss: 0.2040 - mse: 0.2040 - mape: 289.8370 - mae: 0.3470\n",
      "Epoch 8/50\n",
      "136/136 [==============================] - 9s 64ms/step - loss: 0.1905 - mse: 0.1905 - mape: 266.6349 - mae: 0.3339\n",
      "Epoch 9/50\n",
      "136/136 [==============================] - 9s 64ms/step - loss: 0.1925 - mse: 0.1925 - mape: 274.6828 - mae: 0.3359\n",
      "Epoch 10/50\n",
      "136/136 [==============================] - 9s 66ms/step - loss: 0.1771 - mse: 0.1771 - mape: 262.3752 - mae: 0.3218\n",
      "Epoch 11/50\n",
      "136/136 [==============================] - 9s 63ms/step - loss: 0.1731 - mse: 0.1731 - mape: 258.1474 - mae: 0.3182\n",
      "Epoch 12/50\n",
      "136/136 [==============================] - 9s 65ms/step - loss: 0.1639 - mse: 0.1639 - mape: 247.9617 - mae: 0.3096\n",
      "Epoch 13/50\n",
      "136/136 [==============================] - 9s 65ms/step - loss: 0.1598 - mse: 0.1598 - mape: 251.2544 - mae: 0.3062\n",
      "Epoch 14/50\n",
      "136/136 [==============================] - 9s 63ms/step - loss: 0.1538 - mse: 0.1538 - mape: 242.3208 - mae: 0.3006\n",
      "Epoch 15/50\n",
      "136/136 [==============================] - 9s 64ms/step - loss: 0.1476 - mse: 0.1476 - mape: 231.7480 - mae: 0.2942\n",
      "Epoch 16/50\n",
      "136/136 [==============================] - 9s 63ms/step - loss: 0.1475 - mse: 0.1475 - mape: 246.4850 - mae: 0.2937\n",
      "Epoch 17/50\n",
      "136/136 [==============================] - 8s 61ms/step - loss: 0.1425 - mse: 0.1425 - mape: 227.9517 - mae: 0.2890\n",
      "Epoch 18/50\n",
      "136/136 [==============================] - 8s 62ms/step - loss: 0.1402 - mse: 0.1402 - mape: 235.7813 - mae: 0.2867\n",
      "Epoch 19/50\n",
      "136/136 [==============================] - 8s 61ms/step - loss: 0.1385 - mse: 0.1385 - mape: 235.2315 - mae: 0.2853\n",
      "Epoch 20/50\n",
      "136/136 [==============================] - 8s 62ms/step - loss: 0.1373 - mse: 0.1373 - mape: 225.0334 - mae: 0.2846\n",
      "Epoch 21/50\n",
      "136/136 [==============================] - 8s 61ms/step - loss: 0.1332 - mse: 0.1332 - mape: 232.8258 - mae: 0.2796\n",
      "Epoch 22/50\n",
      "136/136 [==============================] - 8s 61ms/step - loss: 0.1323 - mse: 0.1323 - mape: 226.3219 - mae: 0.2790\n",
      "Epoch 23/50\n",
      "136/136 [==============================] - 8s 61ms/step - loss: 0.1276 - mse: 0.1276 - mape: 217.8078 - mae: 0.2743\n",
      "Epoch 24/50\n",
      "136/136 [==============================] - 8s 61ms/step - loss: 0.1240 - mse: 0.1240 - mape: 223.5247 - mae: 0.2702\n",
      "Epoch 25/50\n",
      "136/136 [==============================] - 8s 61ms/step - loss: 0.1222 - mse: 0.1222 - mape: 214.9937 - mae: 0.2688\n",
      "Epoch 26/50\n",
      "136/136 [==============================] - 8s 61ms/step - loss: 0.1187 - mse: 0.1187 - mape: 214.4392 - mae: 0.2649\n",
      "Epoch 27/50\n",
      "136/136 [==============================] - 8s 61ms/step - loss: 0.1140 - mse: 0.1140 - mape: 210.1876 - mae: 0.2591\n",
      "Epoch 28/50\n",
      "136/136 [==============================] - 8s 62ms/step - loss: 0.1108 - mse: 0.1108 - mape: 207.5723 - mae: 0.2554\n",
      "Epoch 29/50\n",
      "136/136 [==============================] - 8s 61ms/step - loss: 0.1073 - mse: 0.1073 - mape: 206.1223 - mae: 0.2510\n",
      "Epoch 30/50\n",
      "136/136 [==============================] - 8s 62ms/step - loss: 0.1050 - mse: 0.1050 - mape: 202.1220 - mae: 0.2485\n",
      "Epoch 31/50\n",
      "136/136 [==============================] - 8s 61ms/step - loss: 0.1025 - mse: 0.1025 - mape: 205.4377 - mae: 0.2453\n",
      "Epoch 32/50\n",
      "136/136 [==============================] - 8s 61ms/step - loss: 0.0985 - mse: 0.0985 - mape: 198.1701 - mae: 0.2403\n",
      "Epoch 33/50\n",
      "136/136 [==============================] - 8s 62ms/step - loss: 0.0989 - mse: 0.0989 - mape: 200.2174 - mae: 0.2409\n",
      "Epoch 34/50\n",
      "136/136 [==============================] - 8s 62ms/step - loss: 0.0987 - mse: 0.0987 - mape: 200.9518 - mae: 0.2408\n",
      "Epoch 35/50\n",
      "136/136 [==============================] - 8s 61ms/step - loss: 0.1010 - mse: 0.1010 - mape: 203.1656 - mae: 0.2439\n",
      "Epoch 36/50\n",
      "136/136 [==============================] - 8s 62ms/step - loss: 0.0980 - mse: 0.0980 - mape: 223.1146 - mae: 0.2397\n",
      "Epoch 37/50\n",
      "136/136 [==============================] - 8s 61ms/step - loss: 0.0958 - mse: 0.0958 - mape: 197.7293 - mae: 0.2366\n",
      "Epoch 38/50\n",
      "136/136 [==============================] - 8s 61ms/step - loss: 0.0937 - mse: 0.0937 - mape: 194.7481 - mae: 0.2337\n",
      "Epoch 39/50\n",
      "136/136 [==============================] - 8s 61ms/step - loss: 0.0917 - mse: 0.0917 - mape: 196.1382 - mae: 0.2307\n",
      "Epoch 40/50\n",
      "136/136 [==============================] - 8s 61ms/step - loss: 0.0909 - mse: 0.0909 - mape: 192.9655 - mae: 0.2297\n",
      "Epoch 41/50\n",
      "136/136 [==============================] - 8s 62ms/step - loss: 0.0886 - mse: 0.0886 - mape: 191.1640 - mae: 0.2271\n",
      "Epoch 42/50\n",
      "136/136 [==============================] - 8s 62ms/step - loss: 0.0868 - mse: 0.0868 - mape: 189.2921 - mae: 0.2244\n",
      "Epoch 43/50\n",
      "136/136 [==============================] - 8s 61ms/step - loss: 0.0849 - mse: 0.0849 - mape: 186.9810 - mae: 0.2221\n",
      "Epoch 44/50\n",
      "136/136 [==============================] - 8s 61ms/step - loss: 0.0836 - mse: 0.0836 - mape: 186.9766 - mae: 0.2204\n",
      "Epoch 45/50\n",
      "136/136 [==============================] - 8s 61ms/step - loss: 0.0837 - mse: 0.0837 - mape: 185.0959 - mae: 0.2203\n",
      "Epoch 46/50\n",
      "136/136 [==============================] - 8s 62ms/step - loss: 0.0835 - mse: 0.0835 - mape: 183.5984 - mae: 0.2200\n",
      "Epoch 47/50\n",
      "136/136 [==============================] - 8s 60ms/step - loss: 0.0823 - mse: 0.0823 - mape: 181.9314 - mae: 0.2185\n",
      "Epoch 48/50\n",
      "136/136 [==============================] - 8s 60ms/step - loss: 0.0807 - mse: 0.0807 - mape: 184.2617 - mae: 0.2161\n",
      "Epoch 49/50\n",
      "136/136 [==============================] - 8s 61ms/step - loss: 0.0819 - mse: 0.0819 - mape: 183.4558 - mae: 0.2179\n",
      "Epoch 50/50\n",
      "136/136 [==============================] - 8s 61ms/step - loss: 0.0827 - mse: 0.0827 - mape: 190.9289 - mae: 0.2188\n"
     ]
    }
   ],
   "source": [
    "model=get_model(\"bilstm_dense\") \n",
    "optimizer=tf.keras.optimizers.Adam()\n",
    "model.compile(optimizer=optimizer, loss=tf.keras.losses.MeanSquaredError(), metrics=[\"mse\", \"mape\", \"mae\"])\n",
    "history = model.fit(tf_data, epochs=50)"
   ]
  },
  {
   "cell_type": "code",
   "execution_count": 12,
   "id": "d343b1a0",
   "metadata": {},
   "outputs": [
    {
     "data": {
      "text/plain": [
       "array([[[-2.2749598, -2.0129623, -2.7161915, ..., -2.2888901,\n",
       "         -2.1037984, -1.6375939],\n",
       "        [-2.2749598, -2.0129623, -2.6973066, ..., -2.310769 ,\n",
       "         -2.1346464, -1.6375939],\n",
       "        [-2.3305948, -2.063324 , -2.6973066, ..., -2.3632782,\n",
       "         -2.1860602, -1.723573 ],\n",
       "        ...,\n",
       "        [-2.5902255, -2.738169 , -1.7757286, ..., -1.9957138,\n",
       "         -2.7053375, -2.7194977],\n",
       "        [-2.5345905, -2.6878073, -1.8134981, ..., -1.9694593,\n",
       "         -2.6487825, -2.8413012],\n",
       "        [-2.5902255, -2.6273735, -1.8134981, ..., -2.0219684,\n",
       "         -2.6487825, -2.9129503]]], dtype=float32)"
      ]
     },
     "execution_count": 12,
     "metadata": {},
     "output_type": "execute_result"
    }
   ],
   "source": [
    "inp_data[:1]"
   ]
  },
  {
   "cell_type": "code",
   "execution_count": 13,
   "id": "f79c050d",
   "metadata": {},
   "outputs": [
    {
     "data": {
      "text/plain": [
       "<tf.Tensor: shape=(1, 30, 163), dtype=float32, numpy=\n",
       "array([[[-2.0815399, -2.2420492, -1.5424137, ..., -2.1103175,\n",
       "         -2.0475392, -2.3918607],\n",
       "        [-1.9962454, -2.1202047, -1.5239279, ..., -2.0449529,\n",
       "         -1.9930624, -2.2704167],\n",
       "        [-1.9042625, -1.9839537, -1.4637263, ..., -1.9761062,\n",
       "         -1.9097935, -2.140746 ],\n",
       "        ...,\n",
       "        [-1.7662405, -1.9700372, -1.4337287, ..., -1.861609 ,\n",
       "         -2.0172331, -1.9954967],\n",
       "        [-1.6697295, -1.8319263, -1.3307906, ..., -1.7845056,\n",
       "         -1.9421151, -1.8395153],\n",
       "        [-1.5943766, -1.7322474, -1.2352515, ..., -1.7278129,\n",
       "         -1.8721073, -1.7102859]]], dtype=float32)>"
      ]
     },
     "execution_count": 13,
     "metadata": {},
     "output_type": "execute_result"
    }
   ],
   "source": [
    "pred = model(inp_data[:1], training=False)\n",
    "pred"
   ]
  },
  {
   "cell_type": "code",
   "execution_count": 14,
   "id": "ff85a9d8",
   "metadata": {},
   "outputs": [
    {
     "data": {
      "text/plain": [
       "array([[-2.6412244, -2.5719755, -1.8550447, ..., -2.0219684, -2.5922275,\n",
       "        -2.9129503],\n",
       "       [-2.3305948, -2.294987 , -1.9419147, ..., -1.9694593, -2.1346464,\n",
       "        -2.95594  ],\n",
       "       [-2.0709643, -2.1237578, -1.8588217, ..., -1.7769254, -1.6719241,\n",
       "        -2.94161  ],\n",
       "       ...,\n",
       "       [-1.6629733, -1.8417331, -1.8588217, ..., -1.6281493, -2.1860602,\n",
       "        -2.597694 ],\n",
       "       [-1.6073382, -1.7913716, -1.7581027, ..., -1.6062704, -2.1860602,\n",
       "        -2.3540864],\n",
       "       [-1.551703 , -1.7309377, -1.6473118, ..., -1.5843916, -2.1860602,\n",
       "        -2.1248088]], dtype=float32)"
      ]
     },
     "execution_count": 14,
     "metadata": {},
     "output_type": "execute_result"
    }
   ],
   "source": [
    "out_data[0]"
   ]
  },
  {
   "cell_type": "code",
   "execution_count": 15,
   "id": "f071dd01",
   "metadata": {},
   "outputs": [],
   "source": [
    "import matplotlib.pyplot as plt"
   ]
  },
  {
   "cell_type": "code",
   "execution_count": 37,
   "id": "c88eb000",
   "metadata": {},
   "outputs": [
    {
     "data": {
      "text/plain": [
       "[<matplotlib.lines.Line2D at 0x2b9280b30cd0>]"
      ]
     },
     "execution_count": 37,
     "metadata": {},
     "output_type": "execute_result"
    },
    {
     "data": {
      "image/png": "[encoded data removed]",
      "text/plain": [
       "<Figure size 640x480 with 1 Axes>"
      ]
     },
     "metadata": {},
     "output_type": "display_data"
    }
   ],
   "source": [
    "act_out = denorm(out_data[0])\n",
    "pred_out = denorm(pred[0])\n",
    "\n",
    "fig = plt.figure()\n",
    "ax = fig.gca()\n",
    "\n",
    "indx = 55\n",
    "ax.plot(act_out[:, indx])\n",
    "ax.plot(pred_out[:, indx])"
   ]
  },
  {
   "cell_type": "code",
   "execution_count": null,
   "id": "70a0b8c6",
   "metadata": {},
   "outputs": [],
   "source": []
  }
 ],
 "metadata": {
  "kernelspec": {
   "display_name": "Python 3 (ipykernel)",
   "language": "python",
   "name": "python3"
  },
  "language_info": {
   "codemirror_mode": {
    "name": "ipython",
    "version": 3
   },
   "file_extension": ".py",
   "mimetype": "text/x-python",
   "name": "python",
   "nbconvert_exporter": "python",
   "pygments_lexer": "ipython3",
   "version": "3.9.7"
  }
 },
 "nbformat": 4,
 "nbformat_minor": 5
}
