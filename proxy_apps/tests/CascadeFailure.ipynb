{
 "cells": [
  {
   "cell_type": "code",
   "execution_count": null,
   "id": "sound-announcement",
   "metadata": {},
   "outputs": [],
   "source": [
    "import sys\n",
    "sys.path.append('../../')"
   ]
  },
  {
   "cell_type": "code",
   "execution_count": 2,
   "id": "acoustic-picking",
   "metadata": {},
   "outputs": [],
   "source": [
    "import tensorflow as tf\n",
    "from proxy_apps.apps import cascade_failure as cf"
   ]
  },
  {
   "cell_type": "code",
   "execution_count": 3,
   "id": "spread-heater",
   "metadata": {},
   "outputs": [],
   "source": [
    "# Hyperparameters\n",
    "hyper_param_dict = dict()\n",
    "hyper_param_dict['original_dim']       = 136   # input data dimension\n",
    "hyper_param_dict['hl_1_dim']           = 128   # Hidden layer dimension\n",
    "hyper_param_dict['hl_2_dim']           = 128   # Hidden layer dimension\n",
    "hyper_param_dict['hl_3_dim']           = 64   # Hidden layer dimension\n",
    "hyper_param_dict['hl_4_dim']           = 64   # Hidden layer dimension\n",
    "# hyper_param_dict['hl_5_dim']           = 64   # Hidden layer dimension\n",
    "hyper_param_dict['latent_dim']         = 64 # Latent space dimension \n",
    "hyper_param_dict['reg_factor']         = 0 # regularization weight for Koopman\n",
    "hyper_param_dict['dropout_prob']       = 0.005  # dropout rate [regularization between hidden layers]\n",
    "hyper_param_dict['weight_regularizer'] = 0.001  # [L1] regularization weight for dense layer weights \n",
    "hyper_param_dict['bias_regularizer']   = 0    # [L1] regularization bias for dense layer biases\n",
    "hyper_param_dict['num_epochs']         = 250  # Number of epochs \n",
    "hyper_param_dict['learning_rate']      = 5e-4 # learning rate for optimizer \n",
    "hyper_param_dict['validation_split']   = 0.25\n",
    "hyper_param_dict['batch_size']         = 32\n",
    "\n",
    "# Initialize Hyperparameters - we can keep it as a dict instead of creating a separate class\n",
    "hp = cf.HyperParameters(hyper_param_dict)"
   ]
  },
  {
   "cell_type": "code",
   "execution_count": 5,
   "id": "impossible-lafayette",
   "metadata": {},
   "outputs": [
    {
     "ename": "NameError",
     "evalue": "name 'X_array' is not defined",
     "output_type": "error",
     "traceback": [
      "\u001b[1;31m---------------------------------------------------------------------------\u001b[0m",
      "\u001b[1;31mNameError\u001b[0m                                 Traceback (most recent call last)",
      "\u001b[1;32m<ipython-input-5-22167e69f5b7>\u001b[0m in \u001b[0;36m<module>\u001b[1;34m\u001b[0m\n\u001b[0;32m      5\u001b[0m \u001b[0mK_model\u001b[0m \u001b[1;33m=\u001b[0m \u001b[0mcf\u001b[0m\u001b[1;33m.\u001b[0m\u001b[0mNeuralNetworkModel\u001b[0m\u001b[1;33m(\u001b[0m\u001b[0mhp\u001b[0m\u001b[1;33m)\u001b[0m\u001b[1;33m\u001b[0m\u001b[1;33m\u001b[0m\u001b[0m\n\u001b[0;32m      6\u001b[0m \u001b[0mK_model\u001b[0m\u001b[1;33m.\u001b[0m\u001b[0mcompile\u001b[0m\u001b[1;33m(\u001b[0m\u001b[0moptimizer\u001b[0m\u001b[1;33m=\u001b[0m\u001b[0mtf\u001b[0m\u001b[1;33m.\u001b[0m\u001b[0moptimizers\u001b[0m\u001b[1;33m.\u001b[0m\u001b[0mAdagrad\u001b[0m\u001b[1;33m(\u001b[0m\u001b[0mhp\u001b[0m\u001b[1;33m.\u001b[0m\u001b[0mlr\u001b[0m\u001b[1;33m)\u001b[0m\u001b[1;33m)\u001b[0m\u001b[1;33m\u001b[0m\u001b[1;33m\u001b[0m\u001b[0m\n\u001b[1;32m----> 7\u001b[1;33m history = K_model.fit([X_array, Y_array], validation_split = hp.vs, batch_size = hp.bs, \n\u001b[0m\u001b[0;32m      8\u001b[0m                    epochs=hp.ep, callbacks=[CallBack], shuffle = True)\n",
      "\u001b[1;31mNameError\u001b[0m: name 'X_array' is not defined"
     ]
    }
   ],
   "source": [
    "# Stopping criteria if the training loss doesn't go down by 1e-3\n",
    "CallBack = tf.keras.callbacks.EarlyStopping(\n",
    "    monitor='val_loss', min_delta = 1e-3, verbose = 1, mode='min', patience = 3, \n",
    "    baseline=None, restore_best_weights=True)\n",
    "K_model = cf.NeuralNetworkModel(hp)\n",
    "K_model.compile(optimizer=tf.optimizers.Adagrad(hp.lr))\n",
    "history = K_model.fit([X_array, Y_array], validation_split = hp.vs, batch_size = hp.bs, \n",
    "                   epochs=hp.ep, callbacks=[CallBack], shuffle = True)"
   ]
  },
  {
   "cell_type": "code",
   "execution_count": null,
   "id": "adjusted-conservative",
   "metadata": {},
   "outputs": [],
   "source": []
  }
 ],
 "metadata": {
  "kernelspec": {
   "display_name": "Python 3",
   "language": "python",
   "name": "python3"
  },
  "language_info": {
   "codemirror_mode": {
    "name": "ipython",
    "version": 3
   },
   "file_extension": ".py",
   "mimetype": "text/x-python",
   "name": "python",
   "nbconvert_exporter": "python",
   "pygments_lexer": "ipython3",
   "version": "3.8.5"
  }
 },
 "nbformat": 4,
 "nbformat_minor": 5
}
