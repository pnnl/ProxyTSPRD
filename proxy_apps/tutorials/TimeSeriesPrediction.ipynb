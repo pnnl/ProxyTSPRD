{
 "cells": [
  {
   "cell_type": "markdown",
   "id": "normal-pipeline",
   "metadata": {},
   "source": [
    "# Proxy App to Predict State of a Dynamical System"
   ]
  },
  {
   "cell_type": "markdown",
   "id": "unexpected-terrorist",
   "metadata": {},
   "source": [
    "## Import Modules"
   ]
  },
  {
   "cell_type": "code",
   "execution_count": 1,
   "id": "classified-insertion",
   "metadata": {},
   "outputs": [
    {
     "name": "stdout",
     "output_type": "stream",
     "text": [
      "[INFO] Tensorflow version:  2.4.1\n"
     ]
    }
   ],
   "source": [
    "# Standard Libraries\n",
    "import os\n",
    "import time\n",
    "import numpy as np\n",
    "import tensorflow as tf\n",
    "\n",
    "tf.keras.backend.clear_session()\n",
    "tf.keras.backend.set_floatx('float64')\n",
    "print(\"[INFO] Tensorflow version: \", tf.__version__)\n",
    "# print(\"[INFO] Eager mode: \", tf.executing_eagerly()) # For easy reset of notebook state."
   ]
  },
  {
   "cell_type": "code",
   "execution_count": 2,
   "id": "helpful-terrace",
   "metadata": {},
   "outputs": [],
   "source": [
    "# Custom Library\n",
    "import sys\n",
    "sys.path.append('../../')\n",
    "\n",
    "from proxy_apps.data_handler import grid_network\n",
    "from proxy_apps.apps.timeseries_prediction import deepDMD\n",
    "from proxy_apps.plot_lib.simple_plots import eigen_plot, validation_plot, heatmap_matplotlib"
   ]
  },
  {
   "cell_type": "code",
   "execution_count": 3,
   "id": "animated-accident",
   "metadata": {},
   "outputs": [],
   "source": [
    "N_EPOCHS = 1\n",
    "timing_dict = dict()"
   ]
  },
  {
   "cell_type": "markdown",
   "id": "played-superintendent",
   "metadata": {},
   "source": [
    "## Data Loading and Preprocessing\n",
    "The input data for the model should be in the form of array. The output array (Y) will have same number of features as the input array (X) but Y would be a time shifted version of the X. In the case of DeepDMD, the shift was equal to 1. In the original application, the data is not sequential and rather restructured using rolling window."
   ]
  },
  {
   "cell_type": "code",
   "execution_count": 4,
   "id": "powered-counter",
   "metadata": {},
   "outputs": [
    {
     "name": "stdout",
     "output_type": "stream",
     "text": [
      "[INFO]: Loading the datasets from the directory: ../../../../data/TrainingDataIEEE68bus\n",
      "[INFO]: Loading data for 30 scenarios ...\n"
     ]
    }
   ],
   "source": [
    "scenario_dir = '../../../../data/TrainingDataIEEE68bus'\n",
    "print('[INFO]: Loading the datasets from the directory:', scenario_dir)\n",
    "dir_list = os.listdir(scenario_dir)\n",
    "\n",
    "# Indicate the scenario range\n",
    "Dataset = dict()\n",
    "print('[INFO]: Loading data for %d scenarios ...' % len(dir_list))"
   ]
  },
  {
   "cell_type": "code",
   "execution_count": 5,
   "id": "regional-alabama",
   "metadata": {},
   "outputs": [
    {
     "name": "stdout",
     "output_type": "stream",
     "text": [
      "[INFO]: Time taken for loading datasets: 2.7733891010284424 seconds\n",
      "[INFO]: Total number of scenarios loaded: 30\n",
      "[INFO]: Shape of each scenario original:  (1400, 136)\n",
      "[INFO]: Shape of each scenario loaded:  (1000, 136)\n",
      "[INFO]: Done ...\n"
     ]
    }
   ],
   "source": [
    "# step-1: load data\n",
    "l_start = time.time()\n",
    "scenario_data = []\n",
    "count = 0\n",
    "for s_dir in dir_list:\n",
    "    if s_dir.find('scenario') == -1:\n",
    "        continue\n",
    "    dataset = grid_network.TransientDataset('%s/%s/' % (scenario_dir, s_dir))\n",
    "    original_shape = np.concatenate((dataset.F, dataset.Vm), axis=1).shape\n",
    "    scenario_data.append(np.concatenate((dataset.F[:1000,:], dataset.Vm[:1000,:]), axis=1))\n",
    "    count += 1\n",
    "    if count % 50 == 0:\n",
    "        print('[INFO]: Loaded %d/%d scenarios ...' % (count, len(dir_list)))\n",
    "l_stop = time.time()\n",
    "print('[INFO]: Time taken for loading datasets:', l_stop - l_start, 'seconds')\n",
    "print('[INFO]: Total number of scenarios loaded:', len(scenario_data))\n",
    "print('[INFO]: Shape of each scenario original: ', original_shape)\n",
    "print('[INFO]: Shape of each scenario loaded: ', scenario_data[0].shape)\n",
    "print('[INFO]: Done ...')\n",
    "\n",
    "timing_dict['load_data'] = (l_stop - l_start)/60"
   ]
  },
  {
   "cell_type": "code",
   "execution_count": 6,
   "id": "biological-tablet",
   "metadata": {},
   "outputs": [
    {
     "name": "stdout",
     "output_type": "stream",
     "text": [
      "[INFO]: Time taken for creating X datasets: 0.8700006008148193 seconds\n",
      "[INFO]: Original dataset size: 1000\n",
      "[INFO]: Chosen dataset size: 800\n",
      "[INFO]: Length of X_data:  600\n",
      "[INFO]: Length of each window after down sampling:  (800, 136)\n"
     ]
    }
   ],
   "source": [
    "# step-2: create data\n",
    "i_start = time.time()\n",
    "X_data = [] # Original data\n",
    "Y_data = [] # 1 time-shifted data\n",
    "U_data = [] # 2 time-shifted data\n",
    "V_data = [] # 3 time-shifted data\n",
    "whole_data = [] # Complete data \n",
    "Yp = [] # For analytical calculations\n",
    "Yf = [] # For analytical calculations\n",
    "count  = 0\n",
    "ds  = 1\n",
    "M = 2 # signifies number of time-shifts\n",
    "N = 3 # signifies number of time-shifts\n",
    "\n",
    "for dataset in scenario_data:    \n",
    "    dataset_size = dataset.shape[0]\n",
    "    whole_data.append(dataset)      \n",
    "    Yp.append(dataset[:-1,:])\n",
    "    Yf.append(dataset[1:,:])\n",
    "    count += 1\n",
    "    if count % 50 == 0:\n",
    "        print('Done processing %d/%d datasets ...' % (count, len(scenario_data)))\n",
    "    window_size = 800 # length of moving window\n",
    "    shift_size  = 10 # separation between two moving windows\n",
    "    i = 0\n",
    "    while (i*shift_size+window_size+M+N) <= dataset_size:\n",
    "        X_indices = range(i*shift_size, i*shift_size + window_size,ds)        \n",
    "        Y_indices = range(i*shift_size+1, i*shift_size + window_size+1,ds)               \n",
    "        U_indices = range(i*shift_size+M, i*shift_size + window_size+M,ds)               \n",
    "        V_indices = range(i*shift_size+N, i*shift_size + window_size+N,ds)   \n",
    "        if count < 0:\n",
    "            print(X_indices)\n",
    "            print(Y_indices)\n",
    "            print(U_indices)\n",
    "            print(V_indices)        \n",
    "\n",
    "        i = i + 1\n",
    "        X_data.append(dataset[X_indices])\n",
    "        Y_data.append(dataset[Y_indices])\n",
    "        U_data.append(dataset[U_indices])\n",
    "        V_data.append(dataset[V_indices])\n",
    "\n",
    "i_stop = time.time()\n",
    "print('[INFO]: Time taken for creating X datasets:', i_stop - i_start, 'seconds')\n",
    "print('[INFO]: Original dataset size:', dataset_size)\n",
    "print('[INFO]: Chosen dataset size:', window_size)\n",
    "print('[INFO]: Length of X_data: ', len(X_data))\n",
    "print('[INFO]: Length of each window after down sampling: ', X_data[0].shape)\n",
    "\n",
    "timing_dict['create_data'] = (i_stop - i_start)/60"
   ]
  },
  {
   "cell_type": "code",
   "execution_count": 9,
   "id": "finite-singer",
   "metadata": {},
   "outputs": [
    {
     "data": {
      "text/plain": [
       "(999, 136)"
      ]
     },
     "execution_count": 9,
     "metadata": {},
     "output_type": "execute_result"
    }
   ],
   "source": [
    "Yp[0].shape"
   ]
  },
  {
   "cell_type": "code",
   "execution_count": 10,
   "id": "returning-works",
   "metadata": {},
   "outputs": [
    {
     "name": "stdout",
     "output_type": "stream",
     "text": [
      "[INFO]: whole_data_array shape: (30000, 136)\n",
      "[INFO]: Yp_array shape:  (29970, 136)\n",
      "[INFO]: Yf_array shape:  (29970, 136)\n",
      "[INFO]: X_array shape:  (480000, 136)\n",
      "[INFO]: Y_array shape:  (480000, 136)\n",
      "[INFO]: U_array shape:  (480000, 136)\n",
      "[INFO]: V_array shape:  (480000, 136)\n",
      "[INFO]: Time taken for normalization: 11.19254755973816 seconds\n"
     ]
    }
   ],
   "source": [
    "# step-3: normalization\n",
    "n_start = time.time()\n",
    "Normalization = 1\n",
    "scale_factor = 2*np.pi \n",
    "\n",
    "X_array = np.asarray(X_data).transpose(2,0,1).reshape(dataset.shape[1],-1).transpose()\n",
    "Y_array = np.asarray(Y_data).transpose(2,0,1).reshape(dataset.shape[1],-1).transpose()\n",
    "U_array = np.asarray(U_data).transpose(2,0,1).reshape(dataset.shape[1],-1).transpose()\n",
    "V_array = np.asarray(V_data).transpose(2,0,1).reshape(dataset.shape[1],-1).transpose()\n",
    "whole_data_array = np.asarray(whole_data).transpose(2,0,1).reshape(dataset.shape[1],-1).transpose()\n",
    "Yp_array = np.asarray(Yp).transpose(2,0,1).reshape(dataset.shape[1],-1).transpose()\n",
    "Yf_array = np.asarray(Yf).transpose(2,0,1).reshape(dataset.shape[1],-1).transpose()\n",
    "print(\"[INFO]: whole_data_array shape:\", whole_data_array.shape)\n",
    "print('[INFO]: Yp_array shape: ', Yp_array.shape)\n",
    "print('[INFO]: Yf_array shape: ', Yf_array.shape)\n",
    "print('[INFO]: X_array shape: ', X_array.shape)\n",
    "print('[INFO]: Y_array shape: ', Y_array.shape)\n",
    "print('[INFO]: U_array shape: ', U_array.shape)\n",
    "print('[INFO]: V_array shape: ', V_array.shape)\n",
    "\n",
    "if Normalization:  \n",
    "    X_array_old  = X_array\n",
    "    Y_array_old  = Y_array\n",
    "    U_array_old  = U_array\n",
    "    V_array_old  = V_array\n",
    "    Yp_array_old = Yp_array\n",
    "    Yf_array_old = Yf_array\n",
    "    X_array      = np.concatenate((scale_factor*(X_array_old[:,:68] - 60), 10*(X_array_old[:,68:] - 1)), axis = 1) \n",
    "    Y_array      = np.concatenate((scale_factor*(Y_array_old[:,:68] - 60), 10*(Y_array_old[:,68:] - 1)), axis = 1) \n",
    "    U_array      = np.concatenate((scale_factor*(U_array_old[:,:68] - 60), 10*(U_array_old[:,68:] - 1)), axis = 1) \n",
    "    V_array      = np.concatenate((scale_factor*(V_array_old[:,:68] - 60), 10*(V_array_old[:,68:] - 1)), axis = 1) \n",
    "    Yp_array     = np.concatenate((scale_factor*(Yp_array_old[:,:68] - 60), 10*(Yp_array_old[:,68:] - 1)), axis = 1)\n",
    "    Yf_array     = np.concatenate((scale_factor*(Yf_array_old[:,:68] - 60), 10*(Yf_array_old[:,68:] - 1)), axis = 1)    \n",
    "        \n",
    "n_stop = time.time()\n",
    "print('[INFO]: Time taken for normalization:', n_stop - n_start, 'seconds')"
   ]
  },
  {
   "cell_type": "code",
   "execution_count": 12,
   "id": "senior-cleaners",
   "metadata": {},
   "outputs": [
    {
     "data": {
      "text/plain": [
       "(29970, 136)"
      ]
     },
     "execution_count": 12,
     "metadata": {},
     "output_type": "execute_result"
    }
   ],
   "source": [
    "Yp_array.shape"
   ]
  },
  {
   "cell_type": "code",
   "execution_count": 8,
   "id": "thermal-cylinder",
   "metadata": {},
   "outputs": [
    {
     "data": {
      "text/plain": [
       "array([-0.14165288, -0.03844356, -0.01614739, -0.02112808, -0.03753495,\n",
       "       -0.03595576, -0.05122148, -0.05883799, -0.18163594, -0.01606364,\n",
       "       -0.02258537, -0.01816804, -0.01371952, -0.00716514,  0.03021367,\n",
       "        0.04639342,  0.02124267,  0.00693749,  0.0406679 ,  0.05210838])"
      ]
     },
     "execution_count": 8,
     "metadata": {},
     "output_type": "execute_result"
    }
   ],
   "source": [
    "X_array[0, :20]"
   ]
  },
  {
   "cell_type": "markdown",
   "id": "flush-kernel",
   "metadata": {},
   "source": [
    "## Data Modeling"
   ]
  },
  {
   "cell_type": "code",
   "execution_count": 9,
   "id": "median-berkeley",
   "metadata": {},
   "outputs": [],
   "source": [
    "tf.config.run_functions_eagerly(True)"
   ]
  },
  {
   "cell_type": "code",
   "execution_count": 10,
   "id": "accomplished-making",
   "metadata": {},
   "outputs": [],
   "source": [
    "class HyperParameters():\n",
    "    def __init__(self, config):\n",
    "        self.od = config['original_dim']\n",
    "        self.h1 = config['hl_1_dim']\n",
    "        self.h2 = config['hl_2_dim']\n",
    "        self.h3 = config['hl_3_dim']\n",
    "        self.h4 = config['hl_4_dim']\n",
    "        ## hp.h5 = config['hl_5_dim']\n",
    "        self.ld = config['latent_dim']\n",
    "        self.rf = config['reg_factor']\n",
    "        self.dr = config['dropout_prob']\n",
    "        self.wr = config['weight_regularizer']\n",
    "        self.br = config['bias_regularizer']\n",
    "        self.ep = config['num_epochs']\n",
    "        self.lr = config['learning_rate']\n",
    "        self.bs = config['batch_size']\n",
    "        self.vs = config['validation_split']\n",
    "\n",
    "# Neural Network\n",
    "class NeuralNetworkModel(tf.keras.Model): \n",
    "    def __init__(self, hp):\n",
    "        super(NeuralNetworkModel, self).__init__()\n",
    "        \n",
    "        self.encoder = Encoder(hp)        \n",
    "        \n",
    "        # Define and randomly initialize the Koopman operator\n",
    "        self.KO = tf.Variable(tf.random.normal(shape = (hp.ld+hp.od, hp.ld+hp.od), mean=0.0, stddev=0.05, \n",
    "                                                    dtype=tf.dtypes.float64, seed=123321, name='KoopmanOperator'),\n",
    "                                                    trainable=True)\n",
    "        self.rf = hp.rf \n",
    "        \n",
    "    def call(self, inputs):       \n",
    "        X        = inputs[0]\n",
    "        Y        = inputs[1]   \n",
    "        \n",
    "        Psi_X    = self.encoder(X)\n",
    "        Psi_Y    = self.encoder(Y)        \n",
    "        \n",
    "        PSI_X    = tf.concat([X, Psi_X], 1)\n",
    "        PSI_Y    = tf.concat([Y, Psi_Y], 1) \n",
    "        \n",
    "        # 1-time step evolution on observable space:\n",
    "        K_PSI_X  = tf.matmul(PSI_X, self.KO) \n",
    "        \n",
    "        # 1-step Koopman loss on observable space:        \n",
    "        K_loss   = tf.norm(PSI_Y - K_PSI_X, axis = [0,1], ord = 'fro')\n",
    "        \n",
    "        # Regularization loss on Koopman operator:\n",
    "        Reg_loss= tf.cast(tf.math.scalar_mul(self.rf,tf.norm(self.KO, axis = [0,1], ord = 'fro')), dtype = 'float64')        \n",
    "        \n",
    "        # Total loss:\n",
    "        loss = K_loss + Reg_loss \n",
    "        \n",
    "        self.add_loss(loss)\n",
    "        return Psi_X, PSI_X, Psi_Y, PSI_Y, K_loss\n",
    "\n",
    "class Encoder(tf.keras.layers.Layer):\n",
    "    def __init__(self, hps):\n",
    "        super(Encoder, self).__init__(dtype = 'float64', name = 'Encoder')\n",
    "        self.input_layer   = DenseLayer(hps.h1, hps.od, 0.0, 0.0)\n",
    "        self.hidden_layer1 = DenseLayer(hps.h2, hps.h1, hps.wr, hps.br)\n",
    "        self.dropout_laye1 = tf.keras.layers.Dropout(hps.dr)\n",
    "        self.hidden_layer2 = DenseLayer(hps.h3, hps.h2, hps.wr, hps.br)        \n",
    "        self.dropout_laye2 = tf.keras.layers.Dropout(hps.dr)\n",
    "        self.hidden_layer3 = DenseLayer(hps.h4, hps.h3, hps.wr, hps.br)\n",
    "        self.dropout_laye3 = tf.keras.layers.Dropout(hps.dr)           \n",
    "#         self.hidden_layer4 = DenseLayer(hps.h5, hps.h4, hps.wr, hps.br)\n",
    "#         self.dropout_laye4 = layers.Dropout(hps.dr)             \n",
    "        self.output_layer  = LinearLayer(hps.ld, hps.h4, hps.wr, hps.br)\n",
    "        \n",
    "    def call(self, input_data, training):\n",
    "        fx = self.input_layer(input_data)        \n",
    "        fx = self.hidden_layer1(fx)\n",
    "        if training:\n",
    "            fx = self.dropout_laye1(fx)     \n",
    "        fx = self.hidden_layer2(fx)\n",
    "        if training:\n",
    "            fx = self.dropout_laye2(fx) \n",
    "        fx = self.hidden_layer3(fx)\n",
    "        if training:\n",
    "            fx = self.dropout_laye3(fx) \n",
    "#         fx = self.hidden_layer4(fx)\n",
    "#         if training:\n",
    "#             fx = self.dropout_laye4(fx)\n",
    "        return self.output_layer(fx)    \n",
    "\n",
    "class LinearLayer(tf.keras.layers.Layer):\n",
    "\n",
    "    def __init__(self, units, input_dim, weights_regularizer, bias_regularizer):\n",
    "        super(LinearLayer, self).__init__(dtype = 'float64')\n",
    "        self.w = self.add_weight(shape = (input_dim, units), \n",
    "                                initializer = tf.keras.initializers.RandomUniform(\n",
    "                                minval=-tf.cast(tf.math.sqrt(6/(input_dim+units)), dtype = 'float64'), \n",
    "                                maxval=tf.cast(tf.math.sqrt(6/(input_dim+units)), dtype = 'float64'), \n",
    "                                seed=16751),                                                                   \n",
    "#                               regularizer = tf.keras.regularizers.l1(weights_regularizer), \n",
    "                                trainable = True)\n",
    "        self.b = self.add_weight(shape = (units,),    \n",
    "                                 initializer = tf.zeros_initializer(),\n",
    "                                 regularizer = tf.keras.regularizers.l1(bias_regularizer),\n",
    "                                 trainable = True)\n",
    "\n",
    "    def call(self, inputs):\n",
    "        return tf.matmul(inputs, self.w) + self.b\n",
    "\n",
    "class DenseLayer(tf.keras.layers.Layer):\n",
    "\n",
    "    def __init__(self, units, input_dim, weights_regularizer, bias_regularizer):\n",
    "        super(DenseLayer, self).__init__(dtype = 'float64')\n",
    "        self.w = self.add_weight(shape = (input_dim, units), \n",
    "                                 initializer = tf.keras.initializers.RandomUniform(\n",
    "                                     minval=-tf.cast(tf.math.sqrt(6.0/(input_dim+units)), dtype = 'float64'),  \n",
    "                                     maxval=tf.cast(tf.math.sqrt(6.0/(input_dim+units)) , dtype = 'float64'),  \n",
    "                                     seed=16751), \n",
    "                                 regularizer = tf.keras.regularizers.l1(weights_regularizer), \n",
    "                                 trainable = True)\n",
    "        self.b = self.add_weight(shape = (units,),    \n",
    "                                 initializer = tf.zeros_initializer(),\n",
    "                                 regularizer = tf.keras.regularizers.l1(bias_regularizer),\n",
    "                                 trainable = True)\n",
    "\n",
    "    def call(self, inputs):\n",
    "        x = tf.matmul(inputs, self.w) + self.b\n",
    "        return tf.nn.elu(x)"
   ]
  },
  {
   "cell_type": "code",
   "execution_count": 17,
   "id": "related-vessel",
   "metadata": {},
   "outputs": [],
   "source": [
    "# Hyperparameters\n",
    "hyper_param_dict = dict()\n",
    "hyper_param_dict['original_dim']       = 136   # input data dimension\n",
    "hyper_param_dict['hl_1_dim']           = 128   # Hidden layer dimension\n",
    "hyper_param_dict['hl_2_dim']           = 128   # Hidden layer dimension\n",
    "hyper_param_dict['hl_3_dim']           = 64   # Hidden layer dimension\n",
    "hyper_param_dict['hl_4_dim']           = 64   # Hidden layer dimension\n",
    "# hyper_param_dict['hl_5_dim']           = 64   # Hidden layer dimension\n",
    "hyper_param_dict['latent_dim']         = 64 # Latent space dimension \n",
    "hyper_param_dict['reg_factor']         = 0 # regularization weight for Koopman\n",
    "hyper_param_dict['dropout_prob']       = 0.005  # dropout rate [regularization between hidden layers]\n",
    "hyper_param_dict['weight_regularizer'] = 0.001  # [L1] regularization weight for dense layer weights \n",
    "hyper_param_dict['bias_regularizer']   = 0    # [L1] regularization bias for dense layer biases\n",
    "hyper_param_dict['num_epochs']         = 10  # Number of epochs \n",
    "hyper_param_dict['learning_rate']      = 5e-4 # learning rate for optimizer \n",
    "hyper_param_dict['validation_split']   = 0.25\n",
    "hyper_param_dict['batch_size']         = 32\n",
    "\n",
    "# Initialize Hyperparameters - we can keep it as a dict instead of creating a separate class\n",
    "hp = deepDMD.HyperParameters(hyper_param_dict)"
   ]
  },
  {
   "cell_type": "code",
   "execution_count": null,
   "id": "cooked-footage",
   "metadata": {},
   "outputs": [
    {
     "name": "stderr",
     "output_type": "stream",
     "text": [
      "C:\\Users\\jain432\\Anaconda3\\envs\\tf\\lib\\site-packages\\tensorflow\\python\\data\\ops\\dataset_ops.py:3349: UserWarning: Even though the tf.config.experimental_run_functions_eagerly option is set, this option does not apply to tf.data functions. tf.data functions are still traced and executed as graphs.\n",
      "  warnings.warn(\n"
     ]
    },
    {
     "name": "stdout",
     "output_type": "stream",
     "text": [
      "Epoch 1/10\n",
      " 2225/11250 [====>.........................] - ETA: 5:38 - loss: 5.1217"
     ]
    },
    {
     "name": "stderr",
     "output_type": "stream",
     "text": [
      "ERROR:root:Internal Python error in the inspect module.\n",
      "Below is the traceback from this internal error.\n",
      "\n"
     ]
    },
    {
     "name": "stdout",
     "output_type": "stream",
     "text": [
      "Traceback (most recent call last):\n",
      "  File \"C:\\Users\\jain432\\Anaconda3\\envs\\tf\\lib\\site-packages\\IPython\\core\\interactiveshell.py\", line 3427, in run_code\n",
      "    exec(code_obj, self.user_global_ns, self.user_ns)\n",
      "  File \"<ipython-input-18-fca604d89a18>\", line 7, in <module>\n",
      "    history = K_model.fit([X_array, Y_array], validation_split = hp.vs, batch_size = hp.bs,\n",
      "  File \"C:\\Users\\jain432\\Anaconda3\\envs\\tf\\lib\\site-packages\\tensorflow\\python\\keras\\engine\\training.py\", line 108, in _method_wrapper\n",
      "    return method(self, *args, **kwargs)\n",
      "  File \"C:\\Users\\jain432\\Anaconda3\\envs\\tf\\lib\\site-packages\\tensorflow\\python\\keras\\engine\\training.py\", line 1098, in fit\n",
      "    tmp_logs = train_function(iterator)\n",
      "  File \"C:\\Users\\jain432\\Anaconda3\\envs\\tf\\lib\\site-packages\\tensorflow\\python\\keras\\engine\\training.py\", line 806, in train_function\n",
      "    return step_function(self, iterator)\n",
      "  File \"C:\\Users\\jain432\\Anaconda3\\envs\\tf\\lib\\site-packages\\tensorflow\\python\\keras\\engine\\training.py\", line 796, in step_function\n",
      "    outputs = model.distribute_strategy.run(run_step, args=(data,))\n",
      "  File \"C:\\Users\\jain432\\Anaconda3\\envs\\tf\\lib\\site-packages\\tensorflow\\python\\distribute\\distribute_lib.py\", line 1211, in run\n",
      "    return self._extended.call_for_each_replica(fn, args=args, kwargs=kwargs)\n",
      "  File \"C:\\Users\\jain432\\Anaconda3\\envs\\tf\\lib\\site-packages\\tensorflow\\python\\distribute\\distribute_lib.py\", line 2585, in call_for_each_replica\n",
      "    return self._call_for_each_replica(fn, args, kwargs)\n",
      "  File \"C:\\Users\\jain432\\Anaconda3\\envs\\tf\\lib\\site-packages\\tensorflow\\python\\distribute\\distribute_lib.py\", line 2945, in _call_for_each_replica\n",
      "    return fn(*args, **kwargs)\n",
      "  File \"C:\\Users\\jain432\\Anaconda3\\envs\\tf\\lib\\site-packages\\tensorflow\\python\\autograph\\impl\\api.py\", line 275, in wrapper\n",
      "    return func(*args, **kwargs)\n",
      "  File \"C:\\Users\\jain432\\Anaconda3\\envs\\tf\\lib\\site-packages\\tensorflow\\python\\keras\\engine\\training.py\", line 789, in run_step\n",
      "    outputs = model.train_step(data)\n",
      "  File \"C:\\Users\\jain432\\Anaconda3\\envs\\tf\\lib\\site-packages\\tensorflow\\python\\keras\\engine\\training.py\", line 756, in train_step\n",
      "    _minimize(self.distribute_strategy, tape, self.optimizer, loss,\n",
      "  File \"C:\\Users\\jain432\\Anaconda3\\envs\\tf\\lib\\site-packages\\tensorflow\\python\\keras\\engine\\training.py\", line 2722, in _minimize\n",
      "    gradients = tape.gradient(loss, trainable_variables)\n",
      "  File \"C:\\Users\\jain432\\Anaconda3\\envs\\tf\\lib\\site-packages\\tensorflow\\python\\eager\\backprop.py\", line 1067, in gradient\n",
      "    flat_grad = imperative_grad.imperative_grad(\n",
      "  File \"C:\\Users\\jain432\\Anaconda3\\envs\\tf\\lib\\site-packages\\tensorflow\\python\\eager\\imperative_grad.py\", line 71, in imperative_grad\n",
      "    return pywrap_tfe.TFE_Py_TapeGradient(\n",
      "  File \"C:\\Users\\jain432\\Anaconda3\\envs\\tf\\lib\\site-packages\\tensorflow\\python\\eager\\backprop.py\", line 162, in _gradient_function\n",
      "    return grad_fn(mock_op, *out_grads)\n",
      "  File \"C:\\Users\\jain432\\Anaconda3\\envs\\tf\\lib\\site-packages\\tensorflow\\python\\ops\\math_grad.py\", line 1325, in _MulGrad\n",
      "    SmartBroadcastGradientArgs(x, y, grad))\n",
      "  File \"C:\\Users\\jain432\\Anaconda3\\envs\\tf\\lib\\site-packages\\tensorflow\\python\\ops\\math_grad.py\", line 94, in SmartBroadcastGradientArgs\n",
      "    sx = array_ops.shape(x)\n",
      "  File \"C:\\Users\\jain432\\Anaconda3\\envs\\tf\\lib\\site-packages\\tensorflow\\python\\util\\dispatch.py\", line 201, in wrapper\n",
      "    return target(*args, **kwargs)\n",
      "  File \"C:\\Users\\jain432\\Anaconda3\\envs\\tf\\lib\\site-packages\\tensorflow\\python\\ops\\array_ops.py\", line 628, in shape\n",
      "    return shape_internal(input, name, optimize=True, out_type=out_type)\n",
      "  File \"C:\\Users\\jain432\\Anaconda3\\envs\\tf\\lib\\site-packages\\tensorflow\\python\\ops\\array_ops.py\", line 656, in shape_internal\n",
      "    return gen_array_ops.shape(input, name=name, out_type=out_type)\n",
      "  File \"C:\\Users\\jain432\\Anaconda3\\envs\\tf\\lib\\site-packages\\tensorflow\\python\\ops\\gen_array_ops.py\", line 9017, in shape\n",
      "    _result = pywrap_tfe.TFE_Py_FastPathExecute(\n",
      "KeyboardInterrupt\n",
      "\n",
      "During handling of the above exception, another exception occurred:\n",
      "\n",
      "Traceback (most recent call last):\n",
      "  File \"C:\\Users\\jain432\\Anaconda3\\envs\\tf\\lib\\site-packages\\IPython\\core\\interactiveshell.py\", line 2054, in showtraceback\n",
      "    stb = value._render_traceback_()\n",
      "AttributeError: 'KeyboardInterrupt' object has no attribute '_render_traceback_'\n",
      "\n",
      "During handling of the above exception, another exception occurred:\n",
      "\n",
      "Traceback (most recent call last):\n",
      "  File \"C:\\Users\\jain432\\Anaconda3\\envs\\tf\\lib\\site-packages\\IPython\\core\\ultratb.py\", line 1101, in get_records\n",
      "    return _fixed_getinnerframes(etb, number_of_lines_of_context, tb_offset)\n",
      "  File \"C:\\Users\\jain432\\Anaconda3\\envs\\tf\\lib\\site-packages\\IPython\\core\\ultratb.py\", line 248, in wrapped\n",
      "    return f(*args, **kwargs)\n",
      "  File \"C:\\Users\\jain432\\Anaconda3\\envs\\tf\\lib\\site-packages\\IPython\\core\\ultratb.py\", line 281, in _fixed_getinnerframes\n",
      "    records = fix_frame_records_filenames(inspect.getinnerframes(etb, context))\n",
      "  File \"C:\\Users\\jain432\\Anaconda3\\envs\\tf\\lib\\inspect.py\", line 1503, in getinnerframes\n",
      "    frameinfo = (tb.tb_frame,) + getframeinfo(tb, context)\n",
      "  File \"C:\\Users\\jain432\\Anaconda3\\envs\\tf\\lib\\inspect.py\", line 1461, in getframeinfo\n",
      "    filename = getsourcefile(frame) or getfile(frame)\n",
      "  File \"C:\\Users\\jain432\\Anaconda3\\envs\\tf\\lib\\inspect.py\", line 708, in getsourcefile\n",
      "    if getattr(getmodule(object, filename), '__loader__', None) is not None:\n",
      "  File \"C:\\Users\\jain432\\Anaconda3\\envs\\tf\\lib\\inspect.py\", line 751, in getmodule\n",
      "    f = getabsfile(module)\n",
      "  File \"C:\\Users\\jain432\\Anaconda3\\envs\\tf\\lib\\inspect.py\", line 720, in getabsfile\n",
      "    _filename = getsourcefile(object) or getfile(object)\n",
      "  File \"C:\\Users\\jain432\\Anaconda3\\envs\\tf\\lib\\inspect.py\", line 705, in getsourcefile\n",
      "    if os.path.exists(filename):\n",
      "  File \"C:\\Users\\jain432\\Anaconda3\\envs\\tf\\lib\\genericpath.py\", line 19, in exists\n",
      "    os.stat(path)\n",
      "KeyboardInterrupt\n"
     ]
    },
    {
     "name": "stderr",
     "output_type": "stream",
     "text": [
      "ERROR:root:Internal Python error in the inspect module.\n",
      "Below is the traceback from this internal error.\n",
      "\n"
     ]
    },
    {
     "name": "stdout",
     "output_type": "stream",
     "text": [
      "Traceback (most recent call last):\n",
      "  File \"C:\\Users\\jain432\\Anaconda3\\envs\\tf\\lib\\site-packages\\IPython\\core\\interactiveshell.py\", line 3427, in run_code\n",
      "    exec(code_obj, self.user_global_ns, self.user_ns)\n",
      "  File \"<ipython-input-18-fca604d89a18>\", line 7, in <module>\n",
      "    history = K_model.fit([X_array, Y_array], validation_split = hp.vs, batch_size = hp.bs,\n",
      "  File \"C:\\Users\\jain432\\Anaconda3\\envs\\tf\\lib\\site-packages\\tensorflow\\python\\keras\\engine\\training.py\", line 108, in _method_wrapper\n",
      "    return method(self, *args, **kwargs)\n",
      "  File \"C:\\Users\\jain432\\Anaconda3\\envs\\tf\\lib\\site-packages\\tensorflow\\python\\keras\\engine\\training.py\", line 1098, in fit\n",
      "    tmp_logs = train_function(iterator)\n",
      "  File \"C:\\Users\\jain432\\Anaconda3\\envs\\tf\\lib\\site-packages\\tensorflow\\python\\keras\\engine\\training.py\", line 806, in train_function\n",
      "    return step_function(self, iterator)\n",
      "  File \"C:\\Users\\jain432\\Anaconda3\\envs\\tf\\lib\\site-packages\\tensorflow\\python\\keras\\engine\\training.py\", line 796, in step_function\n",
      "    outputs = model.distribute_strategy.run(run_step, args=(data,))\n",
      "  File \"C:\\Users\\jain432\\Anaconda3\\envs\\tf\\lib\\site-packages\\tensorflow\\python\\distribute\\distribute_lib.py\", line 1211, in run\n",
      "    return self._extended.call_for_each_replica(fn, args=args, kwargs=kwargs)\n",
      "  File \"C:\\Users\\jain432\\Anaconda3\\envs\\tf\\lib\\site-packages\\tensorflow\\python\\distribute\\distribute_lib.py\", line 2585, in call_for_each_replica\n",
      "    return self._call_for_each_replica(fn, args, kwargs)\n",
      "  File \"C:\\Users\\jain432\\Anaconda3\\envs\\tf\\lib\\site-packages\\tensorflow\\python\\distribute\\distribute_lib.py\", line 2945, in _call_for_each_replica\n",
      "    return fn(*args, **kwargs)\n",
      "  File \"C:\\Users\\jain432\\Anaconda3\\envs\\tf\\lib\\site-packages\\tensorflow\\python\\autograph\\impl\\api.py\", line 275, in wrapper\n",
      "    return func(*args, **kwargs)\n",
      "  File \"C:\\Users\\jain432\\Anaconda3\\envs\\tf\\lib\\site-packages\\tensorflow\\python\\keras\\engine\\training.py\", line 789, in run_step\n",
      "    outputs = model.train_step(data)\n",
      "  File \"C:\\Users\\jain432\\Anaconda3\\envs\\tf\\lib\\site-packages\\tensorflow\\python\\keras\\engine\\training.py\", line 756, in train_step\n",
      "    _minimize(self.distribute_strategy, tape, self.optimizer, loss,\n",
      "  File \"C:\\Users\\jain432\\Anaconda3\\envs\\tf\\lib\\site-packages\\tensorflow\\python\\keras\\engine\\training.py\", line 2722, in _minimize\n",
      "    gradients = tape.gradient(loss, trainable_variables)\n",
      "  File \"C:\\Users\\jain432\\Anaconda3\\envs\\tf\\lib\\site-packages\\tensorflow\\python\\eager\\backprop.py\", line 1067, in gradient\n",
      "    flat_grad = imperative_grad.imperative_grad(\n",
      "  File \"C:\\Users\\jain432\\Anaconda3\\envs\\tf\\lib\\site-packages\\tensorflow\\python\\eager\\imperative_grad.py\", line 71, in imperative_grad\n",
      "    return pywrap_tfe.TFE_Py_TapeGradient(\n",
      "  File \"C:\\Users\\jain432\\Anaconda3\\envs\\tf\\lib\\site-packages\\tensorflow\\python\\eager\\backprop.py\", line 162, in _gradient_function\n",
      "    return grad_fn(mock_op, *out_grads)\n",
      "  File \"C:\\Users\\jain432\\Anaconda3\\envs\\tf\\lib\\site-packages\\tensorflow\\python\\ops\\math_grad.py\", line 1325, in _MulGrad\n",
      "    SmartBroadcastGradientArgs(x, y, grad))\n",
      "  File \"C:\\Users\\jain432\\Anaconda3\\envs\\tf\\lib\\site-packages\\tensorflow\\python\\ops\\math_grad.py\", line 94, in SmartBroadcastGradientArgs\n",
      "    sx = array_ops.shape(x)\n",
      "  File \"C:\\Users\\jain432\\Anaconda3\\envs\\tf\\lib\\site-packages\\tensorflow\\python\\util\\dispatch.py\", line 201, in wrapper\n",
      "    return target(*args, **kwargs)\n",
      "  File \"C:\\Users\\jain432\\Anaconda3\\envs\\tf\\lib\\site-packages\\tensorflow\\python\\ops\\array_ops.py\", line 628, in shape\n",
      "    return shape_internal(input, name, optimize=True, out_type=out_type)\n",
      "  File \"C:\\Users\\jain432\\Anaconda3\\envs\\tf\\lib\\site-packages\\tensorflow\\python\\ops\\array_ops.py\", line 656, in shape_internal\n",
      "    return gen_array_ops.shape(input, name=name, out_type=out_type)\n",
      "  File \"C:\\Users\\jain432\\Anaconda3\\envs\\tf\\lib\\site-packages\\tensorflow\\python\\ops\\gen_array_ops.py\", line 9017, in shape\n",
      "    _result = pywrap_tfe.TFE_Py_FastPathExecute(\n",
      "KeyboardInterrupt\n",
      "\n",
      "During handling of the above exception, another exception occurred:\n",
      "\n",
      "Traceback (most recent call last):\n",
      "  File \"C:\\Users\\jain432\\Anaconda3\\envs\\tf\\lib\\site-packages\\IPython\\core\\interactiveshell.py\", line 2054, in showtraceback\n",
      "    stb = value._render_traceback_()\n",
      "AttributeError: 'KeyboardInterrupt' object has no attribute '_render_traceback_'\n",
      "\n",
      "During handling of the above exception, another exception occurred:\n",
      "\n",
      "Traceback (most recent call last):\n",
      "  File \"C:\\Users\\jain432\\Anaconda3\\envs\\tf\\lib\\site-packages\\IPython\\core\\interactiveshell.py\", line 3347, in run_ast_nodes\n",
      "    if (await self.run_code(code, result,  async_=asy)):\n",
      "  File \"C:\\Users\\jain432\\Anaconda3\\envs\\tf\\lib\\site-packages\\IPython\\core\\interactiveshell.py\", line 3444, in run_code\n",
      "    self.showtraceback(running_compiled_code=True)\n",
      "  File \"C:\\Users\\jain432\\Anaconda3\\envs\\tf\\lib\\site-packages\\IPython\\core\\interactiveshell.py\", line 2056, in showtraceback\n",
      "    stb = self.InteractiveTB.structured_traceback(etype,\n",
      "  File \"C:\\Users\\jain432\\Anaconda3\\envs\\tf\\lib\\site-packages\\IPython\\core\\ultratb.py\", line 1367, in structured_traceback\n",
      "    return FormattedTB.structured_traceback(\n",
      "  File \"C:\\Users\\jain432\\Anaconda3\\envs\\tf\\lib\\site-packages\\IPython\\core\\ultratb.py\", line 1267, in structured_traceback\n",
      "    return VerboseTB.structured_traceback(\n",
      "  File \"C:\\Users\\jain432\\Anaconda3\\envs\\tf\\lib\\site-packages\\IPython\\core\\ultratb.py\", line 1124, in structured_traceback\n",
      "    formatted_exception = self.format_exception_as_a_whole(etype, evalue, etb, number_of_lines_of_context,\n",
      "  File \"C:\\Users\\jain432\\Anaconda3\\envs\\tf\\lib\\site-packages\\IPython\\core\\ultratb.py\", line 1082, in format_exception_as_a_whole\n",
      "    last_unique, recursion_repeat = find_recursion(orig_etype, evalue, records)\n",
      "  File \"C:\\Users\\jain432\\Anaconda3\\envs\\tf\\lib\\site-packages\\IPython\\core\\ultratb.py\", line 382, in find_recursion\n",
      "    return len(records), 0\n",
      "TypeError: object of type 'NoneType' has no len()\n",
      "\n",
      "During handling of the above exception, another exception occurred:\n",
      "\n",
      "Traceback (most recent call last):\n",
      "  File \"C:\\Users\\jain432\\Anaconda3\\envs\\tf\\lib\\site-packages\\IPython\\core\\interactiveshell.py\", line 2054, in showtraceback\n",
      "    stb = value._render_traceback_()\n",
      "AttributeError: 'TypeError' object has no attribute '_render_traceback_'\n",
      "\n",
      "During handling of the above exception, another exception occurred:\n",
      "\n",
      "Traceback (most recent call last):\n",
      "  File \"C:\\Users\\jain432\\Anaconda3\\envs\\tf\\lib\\site-packages\\IPython\\core\\ultratb.py\", line 1101, in get_records\n",
      "    return _fixed_getinnerframes(etb, number_of_lines_of_context, tb_offset)\n",
      "  File \"C:\\Users\\jain432\\Anaconda3\\envs\\tf\\lib\\site-packages\\IPython\\core\\ultratb.py\", line 248, in wrapped\n",
      "    return f(*args, **kwargs)\n",
      "  File \"C:\\Users\\jain432\\Anaconda3\\envs\\tf\\lib\\site-packages\\IPython\\core\\ultratb.py\", line 281, in _fixed_getinnerframes\n",
      "    records = fix_frame_records_filenames(inspect.getinnerframes(etb, context))\n",
      "  File \"C:\\Users\\jain432\\Anaconda3\\envs\\tf\\lib\\inspect.py\", line 1503, in getinnerframes\n",
      "    frameinfo = (tb.tb_frame,) + getframeinfo(tb, context)\n",
      "  File \"C:\\Users\\jain432\\Anaconda3\\envs\\tf\\lib\\inspect.py\", line 1461, in getframeinfo\n",
      "    filename = getsourcefile(frame) or getfile(frame)\n",
      "  File \"C:\\Users\\jain432\\Anaconda3\\envs\\tf\\lib\\inspect.py\", line 708, in getsourcefile\n",
      "    if getattr(getmodule(object, filename), '__loader__', None) is not None:\n",
      "  File \"C:\\Users\\jain432\\Anaconda3\\envs\\tf\\lib\\inspect.py\", line 754, in getmodule\n",
      "    os.path.realpath(f)] = module.__name__\n",
      "  File \"C:\\Users\\jain432\\Anaconda3\\envs\\tf\\lib\\ntpath.py\", line 647, in realpath\n",
      "    path = _getfinalpathname(path)\n",
      "KeyboardInterrupt\n"
     ]
    },
    {
     "name": "stderr",
     "output_type": "stream",
     "text": [
      "ERROR:root:Internal Python error in the inspect module.\n",
      "Below is the traceback from this internal error.\n",
      "\n"
     ]
    },
    {
     "name": "stdout",
     "output_type": "stream",
     "text": [
      "Traceback (most recent call last):\n",
      "  File \"C:\\Users\\jain432\\Anaconda3\\envs\\tf\\lib\\site-packages\\IPython\\core\\interactiveshell.py\", line 3427, in run_code\n",
      "    exec(code_obj, self.user_global_ns, self.user_ns)\n",
      "  File \"<ipython-input-18-fca604d89a18>\", line 7, in <module>\n",
      "    history = K_model.fit([X_array, Y_array], validation_split = hp.vs, batch_size = hp.bs,\n",
      "  File \"C:\\Users\\jain432\\Anaconda3\\envs\\tf\\lib\\site-packages\\tensorflow\\python\\keras\\engine\\training.py\", line 108, in _method_wrapper\n",
      "    return method(self, *args, **kwargs)\n",
      "  File \"C:\\Users\\jain432\\Anaconda3\\envs\\tf\\lib\\site-packages\\tensorflow\\python\\keras\\engine\\training.py\", line 1098, in fit\n",
      "    tmp_logs = train_function(iterator)\n",
      "  File \"C:\\Users\\jain432\\Anaconda3\\envs\\tf\\lib\\site-packages\\tensorflow\\python\\keras\\engine\\training.py\", line 806, in train_function\n",
      "    return step_function(self, iterator)\n",
      "  File \"C:\\Users\\jain432\\Anaconda3\\envs\\tf\\lib\\site-packages\\tensorflow\\python\\keras\\engine\\training.py\", line 796, in step_function\n",
      "    outputs = model.distribute_strategy.run(run_step, args=(data,))\n",
      "  File \"C:\\Users\\jain432\\Anaconda3\\envs\\tf\\lib\\site-packages\\tensorflow\\python\\distribute\\distribute_lib.py\", line 1211, in run\n",
      "    return self._extended.call_for_each_replica(fn, args=args, kwargs=kwargs)\n",
      "  File \"C:\\Users\\jain432\\Anaconda3\\envs\\tf\\lib\\site-packages\\tensorflow\\python\\distribute\\distribute_lib.py\", line 2585, in call_for_each_replica\n",
      "    return self._call_for_each_replica(fn, args, kwargs)\n",
      "  File \"C:\\Users\\jain432\\Anaconda3\\envs\\tf\\lib\\site-packages\\tensorflow\\python\\distribute\\distribute_lib.py\", line 2945, in _call_for_each_replica\n",
      "    return fn(*args, **kwargs)\n",
      "  File \"C:\\Users\\jain432\\Anaconda3\\envs\\tf\\lib\\site-packages\\tensorflow\\python\\autograph\\impl\\api.py\", line 275, in wrapper\n",
      "    return func(*args, **kwargs)\n",
      "  File \"C:\\Users\\jain432\\Anaconda3\\envs\\tf\\lib\\site-packages\\tensorflow\\python\\keras\\engine\\training.py\", line 789, in run_step\n",
      "    outputs = model.train_step(data)\n",
      "  File \"C:\\Users\\jain432\\Anaconda3\\envs\\tf\\lib\\site-packages\\tensorflow\\python\\keras\\engine\\training.py\", line 756, in train_step\n",
      "    _minimize(self.distribute_strategy, tape, self.optimizer, loss,\n",
      "  File \"C:\\Users\\jain432\\Anaconda3\\envs\\tf\\lib\\site-packages\\tensorflow\\python\\keras\\engine\\training.py\", line 2722, in _minimize\n",
      "    gradients = tape.gradient(loss, trainable_variables)\n",
      "  File \"C:\\Users\\jain432\\Anaconda3\\envs\\tf\\lib\\site-packages\\tensorflow\\python\\eager\\backprop.py\", line 1067, in gradient\n",
      "    flat_grad = imperative_grad.imperative_grad(\n",
      "  File \"C:\\Users\\jain432\\Anaconda3\\envs\\tf\\lib\\site-packages\\tensorflow\\python\\eager\\imperative_grad.py\", line 71, in imperative_grad\n",
      "    return pywrap_tfe.TFE_Py_TapeGradient(\n",
      "  File \"C:\\Users\\jain432\\Anaconda3\\envs\\tf\\lib\\site-packages\\tensorflow\\python\\eager\\backprop.py\", line 162, in _gradient_function\n",
      "    return grad_fn(mock_op, *out_grads)\n",
      "  File \"C:\\Users\\jain432\\Anaconda3\\envs\\tf\\lib\\site-packages\\tensorflow\\python\\ops\\math_grad.py\", line 1325, in _MulGrad\n",
      "    SmartBroadcastGradientArgs(x, y, grad))\n",
      "  File \"C:\\Users\\jain432\\Anaconda3\\envs\\tf\\lib\\site-packages\\tensorflow\\python\\ops\\math_grad.py\", line 94, in SmartBroadcastGradientArgs\n",
      "    sx = array_ops.shape(x)\n",
      "  File \"C:\\Users\\jain432\\Anaconda3\\envs\\tf\\lib\\site-packages\\tensorflow\\python\\util\\dispatch.py\", line 201, in wrapper\n",
      "    return target(*args, **kwargs)\n",
      "  File \"C:\\Users\\jain432\\Anaconda3\\envs\\tf\\lib\\site-packages\\tensorflow\\python\\ops\\array_ops.py\", line 628, in shape\n",
      "    return shape_internal(input, name, optimize=True, out_type=out_type)\n",
      "  File \"C:\\Users\\jain432\\Anaconda3\\envs\\tf\\lib\\site-packages\\tensorflow\\python\\ops\\array_ops.py\", line 656, in shape_internal\n",
      "    return gen_array_ops.shape(input, name=name, out_type=out_type)\n",
      "  File \"C:\\Users\\jain432\\Anaconda3\\envs\\tf\\lib\\site-packages\\tensorflow\\python\\ops\\gen_array_ops.py\", line 9017, in shape\n",
      "    _result = pywrap_tfe.TFE_Py_FastPathExecute(\n",
      "KeyboardInterrupt\n",
      "\n",
      "During handling of the above exception, another exception occurred:\n",
      "\n",
      "Traceback (most recent call last):\n",
      "  File \"C:\\Users\\jain432\\Anaconda3\\envs\\tf\\lib\\site-packages\\IPython\\core\\interactiveshell.py\", line 2054, in showtraceback\n",
      "    stb = value._render_traceback_()\n",
      "AttributeError: 'KeyboardInterrupt' object has no attribute '_render_traceback_'\n",
      "\n",
      "During handling of the above exception, another exception occurred:\n",
      "\n",
      "Traceback (most recent call last):\n",
      "  File \"C:\\Users\\jain432\\Anaconda3\\envs\\tf\\lib\\site-packages\\IPython\\core\\interactiveshell.py\", line 3347, in run_ast_nodes\n",
      "    if (await self.run_code(code, result,  async_=asy)):\n",
      "  File \"C:\\Users\\jain432\\Anaconda3\\envs\\tf\\lib\\site-packages\\IPython\\core\\interactiveshell.py\", line 3444, in run_code\n",
      "    self.showtraceback(running_compiled_code=True)\n",
      "  File \"C:\\Users\\jain432\\Anaconda3\\envs\\tf\\lib\\site-packages\\IPython\\core\\interactiveshell.py\", line 2056, in showtraceback\n",
      "    stb = self.InteractiveTB.structured_traceback(etype,\n",
      "  File \"C:\\Users\\jain432\\Anaconda3\\envs\\tf\\lib\\site-packages\\IPython\\core\\ultratb.py\", line 1367, in structured_traceback\n",
      "    return FormattedTB.structured_traceback(\n",
      "  File \"C:\\Users\\jain432\\Anaconda3\\envs\\tf\\lib\\site-packages\\IPython\\core\\ultratb.py\", line 1267, in structured_traceback\n",
      "    return VerboseTB.structured_traceback(\n",
      "  File \"C:\\Users\\jain432\\Anaconda3\\envs\\tf\\lib\\site-packages\\IPython\\core\\ultratb.py\", line 1124, in structured_traceback\n",
      "    formatted_exception = self.format_exception_as_a_whole(etype, evalue, etb, number_of_lines_of_context,\n",
      "  File \"C:\\Users\\jain432\\Anaconda3\\envs\\tf\\lib\\site-packages\\IPython\\core\\ultratb.py\", line 1082, in format_exception_as_a_whole\n",
      "    last_unique, recursion_repeat = find_recursion(orig_etype, evalue, records)\n",
      "  File \"C:\\Users\\jain432\\Anaconda3\\envs\\tf\\lib\\site-packages\\IPython\\core\\ultratb.py\", line 382, in find_recursion\n",
      "    return len(records), 0\n",
      "TypeError: object of type 'NoneType' has no len()\n",
      "\n",
      "During handling of the above exception, another exception occurred:\n",
      "\n",
      "Traceback (most recent call last):\n",
      "  File \"C:\\Users\\jain432\\Anaconda3\\envs\\tf\\lib\\site-packages\\IPython\\core\\interactiveshell.py\", line 2054, in showtraceback\n",
      "    stb = value._render_traceback_()\n",
      "AttributeError: 'TypeError' object has no attribute '_render_traceback_'\n",
      "\n",
      "During handling of the above exception, another exception occurred:\n",
      "\n",
      "Traceback (most recent call last):\n",
      "  File \"C:\\Users\\jain432\\Anaconda3\\envs\\tf\\lib\\site-packages\\IPython\\core\\interactiveshell.py\", line 2932, in _run_cell\n",
      "    return runner(coro)\n",
      "  File \"C:\\Users\\jain432\\Anaconda3\\envs\\tf\\lib\\site-packages\\IPython\\core\\async_helpers.py\", line 68, in _pseudo_sync_runner\n",
      "    coro.send(None)\n",
      "  File \"C:\\Users\\jain432\\Anaconda3\\envs\\tf\\lib\\site-packages\\IPython\\core\\interactiveshell.py\", line 3155, in run_cell_async\n",
      "    has_raised = await self.run_ast_nodes(code_ast.body, cell_name,\n",
      "  File \"C:\\Users\\jain432\\Anaconda3\\envs\\tf\\lib\\site-packages\\IPython\\core\\interactiveshell.py\", line 3366, in run_ast_nodes\n",
      "    self.showtraceback()\n",
      "  File \"C:\\Users\\jain432\\Anaconda3\\envs\\tf\\lib\\site-packages\\IPython\\core\\interactiveshell.py\", line 2056, in showtraceback\n",
      "    stb = self.InteractiveTB.structured_traceback(etype,\n",
      "  File \"C:\\Users\\jain432\\Anaconda3\\envs\\tf\\lib\\site-packages\\IPython\\core\\ultratb.py\", line 1367, in structured_traceback\n",
      "    return FormattedTB.structured_traceback(\n",
      "  File \"C:\\Users\\jain432\\Anaconda3\\envs\\tf\\lib\\site-packages\\IPython\\core\\ultratb.py\", line 1267, in structured_traceback\n",
      "    return VerboseTB.structured_traceback(\n",
      "  File \"C:\\Users\\jain432\\Anaconda3\\envs\\tf\\lib\\site-packages\\IPython\\core\\ultratb.py\", line 1142, in structured_traceback\n",
      "    formatted_exceptions += self.format_exception_as_a_whole(etype, evalue, etb, lines_of_context,\n",
      "  File \"C:\\Users\\jain432\\Anaconda3\\envs\\tf\\lib\\site-packages\\IPython\\core\\ultratb.py\", line 1082, in format_exception_as_a_whole\n",
      "    last_unique, recursion_repeat = find_recursion(orig_etype, evalue, records)\n",
      "  File \"C:\\Users\\jain432\\Anaconda3\\envs\\tf\\lib\\site-packages\\IPython\\core\\ultratb.py\", line 382, in find_recursion\n",
      "    return len(records), 0\n",
      "TypeError: object of type 'NoneType' has no len()\n",
      "\n",
      "During handling of the above exception, another exception occurred:\n",
      "\n",
      "Traceback (most recent call last):\n",
      "  File \"C:\\Users\\jain432\\Anaconda3\\envs\\tf\\lib\\site-packages\\IPython\\core\\interactiveshell.py\", line 2054, in showtraceback\n",
      "    stb = value._render_traceback_()\n",
      "AttributeError: 'TypeError' object has no attribute '_render_traceback_'\n",
      "\n",
      "During handling of the above exception, another exception occurred:\n",
      "\n",
      "Traceback (most recent call last):\n",
      "  File \"C:\\Users\\jain432\\Anaconda3\\envs\\tf\\lib\\site-packages\\IPython\\core\\ultratb.py\", line 1101, in get_records\n",
      "    return _fixed_getinnerframes(etb, number_of_lines_of_context, tb_offset)\n",
      "  File \"C:\\Users\\jain432\\Anaconda3\\envs\\tf\\lib\\site-packages\\IPython\\core\\ultratb.py\", line 248, in wrapped\n",
      "    return f(*args, **kwargs)\n",
      "  File \"C:\\Users\\jain432\\Anaconda3\\envs\\tf\\lib\\site-packages\\IPython\\core\\ultratb.py\", line 281, in _fixed_getinnerframes\n",
      "    records = fix_frame_records_filenames(inspect.getinnerframes(etb, context))\n",
      "  File \"C:\\Users\\jain432\\Anaconda3\\envs\\tf\\lib\\inspect.py\", line 1503, in getinnerframes\n",
      "    frameinfo = (tb.tb_frame,) + getframeinfo(tb, context)\n",
      "  File \"C:\\Users\\jain432\\Anaconda3\\envs\\tf\\lib\\inspect.py\", line 1461, in getframeinfo\n",
      "    filename = getsourcefile(frame) or getfile(frame)\n",
      "  File \"C:\\Users\\jain432\\Anaconda3\\envs\\tf\\lib\\inspect.py\", line 708, in getsourcefile\n",
      "    if getattr(getmodule(object, filename), '__loader__', None) is not None:\n",
      "  File \"C:\\Users\\jain432\\Anaconda3\\envs\\tf\\lib\\inspect.py\", line 754, in getmodule\n",
      "    os.path.realpath(f)] = module.__name__\n",
      "  File \"C:\\Users\\jain432\\Anaconda3\\envs\\tf\\lib\\ntpath.py\", line 647, in realpath\n",
      "    path = _getfinalpathname(path)\n",
      "KeyboardInterrupt\n"
     ]
    }
   ],
   "source": [
    "# Stopping criteria if the training loss doesn't go down by 1e-3\n",
    "CallBack = tf.keras.callbacks.EarlyStopping(\n",
    "    monitor='val_loss', min_delta = 1e-3, verbose = 1, mode='min', patience = 3, \n",
    "    baseline=None, restore_best_weights=True)\n",
    "K_model = NeuralNetworkModel(hp)\n",
    "K_model.compile(optimizer=tf.optimizers.Adagrad(hp.lr))\n",
    "history = K_model.fit([X_array, Y_array], validation_split = hp.vs, batch_size = hp.bs, \n",
    "                   epochs=hp.ep, callbacks=[CallBack], shuffle = False)"
   ]
  },
  {
   "cell_type": "markdown",
   "id": "pressed-ecuador",
   "metadata": {},
   "source": [
    "## Model Evaluation"
   ]
  },
  {
   "cell_type": "code",
   "execution_count": 15,
   "id": "incident-proposition",
   "metadata": {},
   "outputs": [
    {
     "name": "stdout",
     "output_type": "stream",
     "text": [
      "Koopman loss: 36.5880\n",
      "Psi_X shape: (29970, 64)\n",
      "Psi_Y shape: (29970, 64)\n",
      "PSI_X shape: (29970, 200)\n",
      "PSI_X shape: (29970, 200)\n"
     ]
    },
    {
     "data": {
      "image/png": "[encoded data removed]",
      "text/plain": [
       "<Figure size 432x288 with 1 Axes>"
      ]
     },
     "metadata": {
      "needs_background": "light"
     },
     "output_type": "display_data"
    }
   ],
   "source": [
    "Psi_X, PSI_X, Psi_Y, PSI_Y, Kloss = K_model([Yp_array, Yf_array], training=False)\n",
    "print(\"Koopman loss: %.4f\" %Kloss.numpy())\n",
    "\n",
    "print('Psi_X shape:', Psi_X.numpy().shape)\n",
    "print('Psi_Y shape:', Psi_Y.numpy().shape)\n",
    "print('PSI_X shape:', PSI_X.numpy().shape)\n",
    "print('PSI_X shape:', PSI_Y.numpy().shape)\n",
    "\n",
    "# Plot training & validation loss values\n",
    "validation_plot(history)"
   ]
  },
  {
   "cell_type": "markdown",
   "id": "improved-specialist",
   "metadata": {},
   "source": [
    "### Find the Koopman operator and check its eigenvalues and sparsity structure "
   ]
  },
  {
   "cell_type": "code",
   "execution_count": 16,
   "id": "objective-salon",
   "metadata": {},
   "outputs": [
    {
     "name": "stdout",
     "output_type": "stream",
     "text": [
      "[INFO]: Shape of Koopman operator (200, 200)\n",
      "[INFO]: Norm of Koopman operator 10.028884456698396\n",
      "[INFO]: Trace of K_deepDMD: 4.244711141955264\n",
      "[INFO]: One time-step error with K_deepDMD: 36.58795544722694\n"
     ]
    },
    {
     "data": {
      "image/png": "[encoded data removed]",
      "text/plain": [
       "<Figure size 432x288 with 1 Axes>"
      ]
     },
     "metadata": {
      "needs_background": "light"
     },
     "output_type": "display_data"
    }
   ],
   "source": [
    "K_deepDMD = K_model.KO.numpy()\n",
    "\n",
    "print('[INFO]: Shape of Koopman operator', K_deepDMD.shape)\n",
    "print('[INFO]: Norm of Koopman operator', np.linalg.norm(K_deepDMD))\n",
    "print('[INFO]: Trace of K_deepDMD:',np.trace(K_deepDMD))\n",
    "print('[INFO]: One time-step error with K_deepDMD:', np.linalg.norm(PSI_Y - np.matmul(PSI_X, K_deepDMD), ord = 'fro'))\n",
    "\n",
    "[eigenvaluesK, eigenvectorsK] = np.linalg.eig(K_deepDMD)\n",
    "eigen_plot(eigenvaluesK.real, eigenvaluesK.imag)"
   ]
  },
  {
   "cell_type": "code",
   "execution_count": null,
   "id": "expanded-litigation",
   "metadata": {},
   "outputs": [],
   "source": [
    "heatmap_matplotlib(K_deepDMD, title='Koopman operator structure')"
   ]
  },
  {
   "cell_type": "markdown",
   "id": "endangered-composite",
   "metadata": {},
   "source": [
    "### Get the neural network weights\n",
    "- These weights are obtained after adding weight regularization. One can compare these weights with the neural network weights without any weight regularization. We can clearly see sparse structure here. "
   ]
  },
  {
   "cell_type": "code",
   "execution_count": null,
   "id": "engaged-lecture",
   "metadata": {},
   "outputs": [],
   "source": [
    "weights = K_model.get_weights()\n",
    "heatmap_matplotlib(weights[2], title='Weights')"
   ]
  },
  {
   "cell_type": "code",
   "execution_count": null,
   "id": "mexican-senegal",
   "metadata": {},
   "outputs": [],
   "source": []
  },
  {
   "cell_type": "code",
   "execution_count": null,
   "id": "published-minnesota",
   "metadata": {},
   "outputs": [],
   "source": [
    "# for scenario in Yf_data.take(1):\n",
    "#     print(scenario.cardinality().numpy())"
   ]
  },
  {
   "cell_type": "code",
   "execution_count": null,
   "id": "indoor-worthy",
   "metadata": {},
   "outputs": [],
   "source": [
    "# def test(x):\n",
    "#     return tf.raw_ops.SlidingWindowDataset(input_dataset=x, \\\n",
    "#                                            window_size=800, \\\n",
    "#                                            window_shift=10, \\\n",
    "#                                            window_stride=1, \\\n",
    "#                                            output_types=['tf.float32'], \\\n",
    "#                                            output_shapes=[(800, 136)]\n",
    "#                                           )"
   ]
  },
  {
   "cell_type": "code",
   "execution_count": null,
   "id": "thirty-shift",
   "metadata": {},
   "outputs": [],
   "source": [
    "# def test2(x):\n",
    "#     return tf.keras.preprocessing.timeseries_dataset_from_array(data=x, \\\n",
    "#                                                                 targets=range(1000), \\\n",
    "#                                                                 sequence_length=800\n",
    "#                                                                )"
   ]
  },
  {
   "cell_type": "code",
   "execution_count": null,
   "id": "announced-closure",
   "metadata": {},
   "outputs": [],
   "source": [
    "# windowed_data_v2 = trimmed_scenarios.map((lambda **kwargs: tf.raw_ops.SlidingWindowDataset())({'input_dataset':x, \\\n",
    "#                                                                                    'window_size':800, \\\n",
    "#                                                                                    'window_shift':10, \\\n",
    "#                                                                                    'window_stride':1}))"
   ]
  },
  {
   "cell_type": "code",
   "execution_count": null,
   "id": "every-ranch",
   "metadata": {},
   "outputs": [],
   "source": [
    "# count = 0\n",
    "# for scenario in trimmed_scenarios.take(1):\n",
    "#     for window in scenario.take(1):\n",
    "#         print(window)\n",
    "#         count += 1\n",
    "        \n",
    "# print(count)"
   ]
  },
  {
   "cell_type": "code",
   "execution_count": null,
   "id": "beginning-characterization",
   "metadata": {},
   "outputs": [],
   "source": [
    "# for scenario in windowed_data_v2.take(2):\n",
    "#     print(scenario.cardinality().numpy())\n",
    "#     count=0\n",
    "#     for window in scenario:\n",
    "# #         print(window)\n",
    "# #         print(window.cardinality().numpy())\n",
    "        \n",
    "# #         for a in window:\n",
    "# # #             print(a)\n",
    "#         count+=1\n",
    "# #         if count==1:\n",
    "# #             for a in window.take(1):\n",
    "# #                 print(a)\n",
    "    \n",
    "# print(count)"
   ]
  }
 ],
 "metadata": {
  "kernelspec": {
   "display_name": "Python 3",
   "language": "python",
   "name": "python3"
  },
  "language_info": {
   "codemirror_mode": {
    "name": "ipython",
    "version": 3
   },
   "file_extension": ".py",
   "mimetype": "text/x-python",
   "name": "python",
   "nbconvert_exporter": "python",
   "pygments_lexer": "ipython3",
   "version": "3.8.5"
  }
 },
 "nbformat": 4,
 "nbformat_minor": 5
}
